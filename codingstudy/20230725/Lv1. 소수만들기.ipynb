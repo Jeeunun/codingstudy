{
 "cells": [
  {
   "cell_type": "code",
   "execution_count": 69,
   "metadata": {},
   "outputs": [],
   "source": [
    "from itertools import permutations"
   ]
  },
  {
   "cell_type": "code",
   "execution_count": 70,
   "metadata": {},
   "outputs": [],
   "source": [
    "nums = [1,2,7,6,4]\n",
    "\n",
    "nums_list = []\n",
    "\n",
    "for i in permutations(nums, 3):\n",
    "    nums_list.append(sum(i))"
   ]
  },
  {
   "cell_type": "code",
   "execution_count": 71,
   "metadata": {},
   "outputs": [],
   "source": [
    "Nums_list= set(nums_list)"
   ]
  },
  {
   "cell_type": "code",
   "execution_count": 72,
   "metadata": {},
   "outputs": [
    {
     "data": {
      "text/plain": [
       "{7, 9, 10, 11, 12, 13, 14, 15, 17}"
      ]
     },
     "execution_count": 72,
     "metadata": {},
     "output_type": "execute_result"
    }
   ],
   "source": [
    "Nums_list"
   ]
  },
  {
   "cell_type": "code",
   "execution_count": 73,
   "metadata": {},
   "outputs": [
    {
     "data": {
      "text/plain": [
       "{7: None,\n",
       " 9: None,\n",
       " 10: None,\n",
       " 11: None,\n",
       " 12: None,\n",
       " 13: None,\n",
       " 14: None,\n",
       " 15: None,\n",
       " 17: None}"
      ]
     },
     "execution_count": 73,
     "metadata": {},
     "output_type": "execute_result"
    }
   ],
   "source": [
    "numdict = dict.fromkeys(Nums_list)\n",
    "numdict"
   ]
  },
  {
   "cell_type": "code",
   "execution_count": 74,
   "metadata": {},
   "outputs": [],
   "source": [
    "약수 = []\n",
    "cnt = 0\n",
    "for a in numdict:\n",
    "    for i in range(1, a+1):\n",
    "        if a % i == 0:\n",
    "            cnt +=1\n",
    "    약수.append(cnt)\n",
    "    cnt = 0"
   ]
  },
  {
   "cell_type": "code",
   "execution_count": 75,
   "metadata": {},
   "outputs": [
    {
     "data": {
      "text/plain": [
       "[2, 3, 4, 2, 6, 2, 4, 4, 2]"
      ]
     },
     "execution_count": 75,
     "metadata": {},
     "output_type": "execute_result"
    }
   ],
   "source": [
    "약수"
   ]
  },
  {
   "cell_type": "code",
   "execution_count": 76,
   "metadata": {},
   "outputs": [],
   "source": [
    "for n in numdict:\n",
    "    for s in 약수:\n",
    "        numdict[n] = s"
   ]
  },
  {
   "cell_type": "code",
   "execution_count": 77,
   "metadata": {},
   "outputs": [
    {
     "data": {
      "text/plain": [
       "{7: 2, 9: 2, 10: 2, 11: 2, 12: 2, 13: 2, 14: 2, 15: 2, 17: 2}"
      ]
     },
     "execution_count": 77,
     "metadata": {},
     "output_type": "execute_result"
    }
   ],
   "source": [
    "numdict"
   ]
  },
  {
   "cell_type": "code",
   "execution_count": 68,
   "metadata": {},
   "outputs": [
    {
     "name": "stdout",
     "output_type": "stream",
     "text": [
      "4\n"
     ]
    }
   ],
   "source": [
    "result = 0\n",
    "for v in numdict.values():\n",
    "    if v == 2:\n",
    "        result +=1\n",
    "print(result)"
   ]
  },
  {
   "cell_type": "code",
   "execution_count": null,
   "metadata": {},
   "outputs": [],
   "source": [
    "from itertools import permutations\n",
    "\n",
    "def solution(nums):\n",
    "\n",
    "    nums_list = []\n",
    "\n",
    "    for i in permutations(nums, 3):\n",
    "        nums_list.append(sum(i))\n",
    "\n",
    "    Nums_list= set(nums_list)\n",
    "    numdict = dict.fromkeys(Nums_list)\n",
    "\n",
    "    약수 = []\n",
    "    cnt = 0\n",
    "    for a in numdict:\n",
    "        for i in range(1, a+1):\n",
    "            if a % i == 0:\n",
    "                cnt +=1\n",
    "        약수.append(cnt)\n",
    "        cnt = 0\n",
    "\n",
    "    for n in numdict:\n",
    "        for s in 약수:\n",
    "            numdict[n] = s\n",
    "\n",
    "    answer = 0\n",
    "    for v in numdict.values():\n",
    "        if v == 2:\n",
    "            answer +=1\n",
    "    return answer"
   ]
  }
 ],
 "metadata": {
  "kernelspec": {
   "display_name": "Python 3",
   "language": "python",
   "name": "python3"
  },
  "language_info": {
   "codemirror_mode": {
    "name": "ipython",
    "version": 3
   },
   "file_extension": ".py",
   "mimetype": "text/x-python",
   "name": "python",
   "nbconvert_exporter": "python",
   "pygments_lexer": "ipython3",
   "version": "3.11.4"
  },
  "orig_nbformat": 4
 },
 "nbformat": 4,
 "nbformat_minor": 2
}
