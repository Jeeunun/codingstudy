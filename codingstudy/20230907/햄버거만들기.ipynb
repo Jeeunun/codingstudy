{
 "cells": [
  {
   "cell_type": "markdown",
   "metadata": {},
   "source": [
    "### 햄버거 만들기\n",
    "\n",
    "햄버거 가게에서 일을 하는 상수는 햄버거를 포장하는 일을 합니다. 함께 일을 하는 다른 직원들이 햄버거에 들어갈 재료를 조리해 주면 조리된 순서대로 상수의 앞에 아래서부터 위로 쌓이게 되고, 상수는 순서에 맞게 쌓여서 완성된 햄버거를 따로 옮겨 포장을 하게 됩니다. 상수가 일하는 가게는 정해진 순서(아래서부터, 빵 – 야채 – 고기 - 빵)로 쌓인 햄버거만 포장을 합니다. 상수는 손이 굉장히 빠르기 때문에 상수가 포장하는 동안 속 재료가 추가적으로 들어오는 일은 없으며, 재료의 높이는 무시하여 재료가 높이 쌓여서 일이 힘들어지는 경우는 없습니다.\n",
    "\n",
    "예를 들어, 상수의 앞에 쌓이는 재료의 순서가 [야채, 빵, 빵, 야채, 고기, 빵, 야채, 고기, 빵]일 때, 상수는 여섯 번째 재료가 쌓였을 때, 세 번째 재료부터 여섯 번째 재료를 이용하여 햄버거를 포장하고, 아홉 번째 재료가 쌓였을 때, 두 번째 재료와 일곱 번째 재료부터 아홉 번째 재료를 이용하여 햄버거를 포장합니다. 즉, 2개의 햄버거를 포장하게 됩니다.\n",
    "\n",
    "상수에게 전해지는 재료의 정보를 나타내는 정수 배열 ingredient가 주어졌을 때, 상수가 포장하는 햄버거의 개수를 return 하도록 solution 함수를 완성하시오.\n",
    "\n",
    "|ingredient|result|\n",
    "|---------|-----|\n",
    "|[2, 1, 1, 2, 3, 1, 2, 3, 1]|2|\n",
    "|[1, 3, 2, 1, 2, 1, 3, 1, 2]|0|"
   ]
  },
  {
   "cell_type": "code",
   "execution_count": null,
   "metadata": {},
   "outputs": [],
   "source": [
    "ingredient = [2, 1, 1, 2, 3, 1, 2, 3, 1]\n",
    "순서 = [1,2,3,1]\n",
    "\n",
    "# 4개씩 쪼개기 <1번>\n",
    "split_list = []\n",
    "for i in range(len(ingredient)-3):\n",
    "    split_list.append(ingredient[i:i+4])\n",
    "\n",
    "# split_list에 순서([1,2,3,1]이 있으면 ingredient에서 해당 인덱스를 지우기)\n",
    "for s in split_list:\n",
    "    if s == 순서:\n",
    "        ingredient.pop(split_list.index(순서))\n",
    "\n",
    "# '순서'를 삭제한 ingredient 리스트에서 다시 앞선 과정을 반복. <2번>\n",
    "split_list = []\n",
    "for i in range(len(ingredient)-3):\n",
    "    split_list.append(ingredient[i:i+4])\n",
    "\n",
    "for s in split_list:\n",
    "    if s == 순서:\n",
    "        ingredient.pop(split_list.index(순서))\n",
    "\n",
    "# ingredient에 '순서' 를 찾을 수 없을 때 까지 \n",
    "\n"
   ]
  },
  {
   "cell_type": "code",
   "execution_count": 12,
   "metadata": {},
   "outputs": [],
   "source": [
    "ingredient = [2, 1, 1, 2, 3, 1, 2, 3, 1]\n",
    "순서 = [1,2,3,1]\n",
    "split_list = []\n",
    "result = 0\n",
    "\n",
    "for i in ingredient:\n",
    "    split_list.append(i)\n",
    "    # print(split_list[-4:])\n",
    "    if split_list[-4:] == 순서:\n",
    "        result+=1\n",
    "        for _ in range(4):\n",
    "            split_list.pop()"
   ]
  },
  {
   "cell_type": "code",
   "execution_count": 13,
   "metadata": {},
   "outputs": [
    {
     "data": {
      "text/plain": [
       "2"
      ]
     },
     "execution_count": 13,
     "metadata": {},
     "output_type": "execute_result"
    }
   ],
   "source": [
    "result"
   ]
  },
  {
   "cell_type": "code",
   "execution_count": 38,
   "metadata": {},
   "outputs": [],
   "source": [
    "def solution(ingredient):\n",
    "    순서 = [1,2,3,1]\n",
    "    split_list = []\n",
    "    result = 0\n",
    "    for i in ingredient:\n",
    "        split_list.append(i) \n",
    "        if split_list[-4:] == 순서: # 4개씩 쪼개기 \n",
    "            result+=1 # '순서'랑 같은 리스트가 있으면 result +=1 \n",
    "            for _ in range(4): # 그 리스트는 삭제시키기 -> 다시 split_list[-4:] 탐색\n",
    "                split_list.pop()\n",
    "\n",
    "    return result"
   ]
  },
  {
   "cell_type": "code",
   "execution_count": 1,
   "metadata": {},
   "outputs": [
    {
     "name": "stdout",
     "output_type": "stream",
     "text": [
      "[2]\n",
      "[2, 1]\n",
      "[2, 1, 1]\n",
      "[2, 1, 1, 2]\n",
      "[1, 1, 2, 3]\n",
      "[1, 2, 3, 1]\n",
      "[2, 3, 1, 2]\n",
      "[3, 1, 2, 3]\n",
      "[1, 2, 3, 1]\n"
     ]
    }
   ],
   "source": [
    "ingredient = [2, 1, 1, 2, 3, 1, 2, 3, 1]\n",
    "\n",
    "순서 = [1,2,3,1]\n",
    "split_list = []\n",
    "result = 0\n",
    "for i in ingredient:\n",
    "    split_list.append(i) \n",
    "    print(split_list[-4:]) #인덱스를 이용해 슬라이싱 하고 싶었지만 복잡해진다."
   ]
  },
  {
   "cell_type": "code",
   "execution_count": 39,
   "metadata": {},
   "outputs": [
    {
     "data": {
      "text/plain": [
       "2"
      ]
     },
     "execution_count": 39,
     "metadata": {},
     "output_type": "execute_result"
    }
   ],
   "source": [
    "solution([2, 1, 1, 2, 3, 1, 2, 3, 1])"
   ]
  }
 ],
 "metadata": {
  "kernelspec": {
   "display_name": "Python 3",
   "language": "python",
   "name": "python3"
  },
  "language_info": {
   "codemirror_mode": {
    "name": "ipython",
    "version": 3
   },
   "file_extension": ".py",
   "mimetype": "text/x-python",
   "name": "python",
   "nbconvert_exporter": "python",
   "pygments_lexer": "ipython3",
   "version": "3.9.13"
  },
  "orig_nbformat": 4
 },
 "nbformat": 4,
 "nbformat_minor": 2
}
