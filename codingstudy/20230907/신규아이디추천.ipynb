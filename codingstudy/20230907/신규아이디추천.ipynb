{
 "cells": [
  {
   "cell_type": "code",
   "execution_count": null,
   "metadata": {},
   "outputs": [],
   "source": [
    "new_id = \"...!@BaT#*..y.abcdefghijklm\" \n",
    "\n",
    "#step1 : 모든 대문자 => 소문자로 (lower()함수사용)\n",
    "new_id = new_id.lower()\n",
    "\n",
    "#step2 : 제거(remove(어떤문자)) - 알파벳 소문자, 숫자, 빼기(-), 밑줄(_), 마침표(.) 제외하고\n",
    "exception =[소문자, 숫자, '-', '_', '.']\n",
    "new_id.remove(x)\n",
    "#step3 : 마침표(.)가 2번 이상 연속된 부분을 하나의 마침표(.)로 치환\n",
    "replace('','.')\n",
    "\n",
    "#step4 : 마침표(.)가 처음이나 끝에 위치하면 제거\n",
    "if new_id[-1] | new_id[0] == '.': \n",
    "    remove\n",
    "\n",
    "#step5 : new_id가 빈 문자열이라면, new_id에 'a'를 대입\n",
    "insert('a')\n",
    "\n",
    "#step6 :  new_id의 길이가 16자 이상이면, new_id의 첫 15개의 문자를 제외한 나머지 문자들을 모두 제거합니다.\n",
    "# 만약 제거 후 마침표(.)가 new_id의 끝에 위치한다면 끝에 위치한 마침표(.) 문자를 제거합니다.\n",
    "if len(new_id) >= 16:\n",
    "    new_id.remove(new_id[16:])\n",
    "    if new_id[-1] == '.':\n",
    "        new_id.remove('.')\n",
    "\n",
    "#step7 : new_id의 길이가 2자 이하라면, new_id의 마지막 문자를 new_id의 길이가 3이 될 때까지 반복해서 끝에 붙입니다.\n",
    "while len(new_id) < 4:\n",
    "    if len(new_id) <= 2:\n",
    "        new_id+=new_id[-1]\n",
    "    print(new_id)"
   ]
  },
  {
   "cell_type": "code",
   "execution_count": 1,
   "metadata": {},
   "outputs": [
    {
     "data": {
      "text/plain": [
       "'abcd'"
      ]
     },
     "execution_count": 1,
     "metadata": {},
     "output_type": "execute_result"
    }
   ],
   "source": [
    "A = \"ABcD\"\n",
    "A.lower()"
   ]
  },
  {
   "cell_type": "code",
   "execution_count": null,
   "metadata": {},
   "outputs": [],
   "source": []
  }
 ],
 "metadata": {
  "kernelspec": {
   "display_name": "Python 3",
   "language": "python",
   "name": "python3"
  },
  "language_info": {
   "codemirror_mode": {
    "name": "ipython",
    "version": 3
   },
   "file_extension": ".py",
   "mimetype": "text/x-python",
   "name": "python",
   "nbconvert_exporter": "python",
   "pygments_lexer": "ipython3",
   "version": "3.9.13"
  },
  "orig_nbformat": 4
 },
 "nbformat": 4,
 "nbformat_minor": 2
}
