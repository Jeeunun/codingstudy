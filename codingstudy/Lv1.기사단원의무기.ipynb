{
 "cells": [
  {
   "cell_type": "markdown",
   "metadata": {},
   "source": [
    "자신의 기사번호의 약수 개수에 해당하는 공격력을 가진 무기를 구매\n",
    "\n",
    "공격력의 제한수치를 정하고, 제한수치보다 큰 공격력을 가진 무기를 구매하는 기사는 협약기관에서 정한 공격력을 가지는 무기를 구매해야 한다.\n",
    "\n",
    "15번 기사 -> 약수 : 1,3,5,15 (4개) -> 공격력 4인 무기 구매\n",
    "\n",
    "공격력의 제한수치가 3 -> 3보다 큰 공격력을 가진 무기 구매한 기사는 공격력 2 무기 구매\n",
    "\n",
    "공격력 1당 1kg 철이 필요.\n",
    "\n",
    "result = 무기를 모두 만들기 위해 필요한 철의 무게"
   ]
  },
  {
   "cell_type": "code",
   "execution_count": 1,
   "metadata": {},
   "outputs": [
    {
     "data": {
      "text/plain": [
       "[1, 2, 2, 3, 2, 4, 2, 4, 3, 4]"
      ]
     },
     "execution_count": 1,
     "metadata": {},
     "output_type": "execute_result"
    }
   ],
   "source": [
    "number = 10\n",
    "limit = 3\n",
    "power = 2\n",
    "\n",
    "cnt = 0\n",
    "cntlist = []\n",
    "for i in range(1,number+1): # 1,2,3,4,5\n",
    "    for j in range(1,i+1): # 1->1, 2->1,2, 3-> 1,2,3, 4->1,2,3,4, 5->1,2,3,4,5\n",
    "        if i % j == 0:\n",
    "            cnt+=1            \n",
    "    cntlist.append(cnt)\n",
    "    cnt = 0\n",
    "cntlist"
   ]
  },
  {
   "cell_type": "code",
   "execution_count": 14,
   "metadata": {},
   "outputs": [
    {
     "data": {
      "text/plain": [
       "{1: 1, 2: 2, 3: 2, 4: 3, 5: 2, 6: 4, 7: 2, 8: 4, 9: 3, 10: 4}"
      ]
     },
     "execution_count": 14,
     "metadata": {},
     "output_type": "execute_result"
    }
   ],
   "source": [
    "cnt_dict = {}\n",
    "\n",
    "for x,c in enumerate(cntlist):\n",
    "    # print(x+1 , c)\n",
    "    cnt_dict[x+1] = c\n",
    "cnt_dict"
   ]
  },
  {
   "cell_type": "code",
   "execution_count": 15,
   "metadata": {},
   "outputs": [
    {
     "data": {
      "text/plain": [
       "{1: 1, 2: 2, 3: 2, 4: 3, 5: 2, 6: 2, 7: 2, 8: 2, 9: 3, 10: 2}"
      ]
     },
     "execution_count": 15,
     "metadata": {},
     "output_type": "execute_result"
    }
   ],
   "source": [
    "for k in range(1,len(cnt_dict.keys())+1):\n",
    "    if cnt_dict[k] > limit:\n",
    "        cnt_dict[k] = power\n",
    "\n",
    "cnt_dict"
   ]
  },
  {
   "cell_type": "code",
   "execution_count": 16,
   "metadata": {},
   "outputs": [
    {
     "data": {
      "text/plain": [
       "21"
      ]
     },
     "execution_count": 16,
     "metadata": {},
     "output_type": "execute_result"
    }
   ],
   "source": [
    "sum(cnt_dict.values())"
   ]
  },
  {
   "cell_type": "code",
   "execution_count": null,
   "metadata": {},
   "outputs": [],
   "source": [
    "def solution(number, limit, power):\n",
    "    cnt = 0\n",
    "    cntlist = []\n",
    "    for i in range(1,number+1): \n",
    "        for j in range(1,i+1): \n",
    "            if i % j == 0:\n",
    "                cnt+=1            \n",
    "        cntlist.append(cnt)\n",
    "        cnt = 0\n",
    "\n",
    "    cnt_dict = {}\n",
    "\n",
    "    for x,c in enumerate(cntlist):\n",
    "        cnt_dict[x+1] = c\n",
    "\n",
    "    for k in range(1,len(cnt_dict.keys())+1):\n",
    "        if cnt_dict[k] > limit:\n",
    "            cnt_dict[k] = power\n",
    "\n",
    "\n",
    "    return sum(cnt_dict.values())"
   ]
  }
 ],
 "metadata": {
  "kernelspec": {
   "display_name": "Python 3",
   "language": "python",
   "name": "python3"
  },
  "language_info": {
   "codemirror_mode": {
    "name": "ipython",
    "version": 3
   },
   "file_extension": ".py",
   "mimetype": "text/x-python",
   "name": "python",
   "nbconvert_exporter": "python",
   "pygments_lexer": "ipython3",
   "version": "3.11.4"
  },
  "orig_nbformat": 4
 },
 "nbformat": 4,
 "nbformat_minor": 2
}
