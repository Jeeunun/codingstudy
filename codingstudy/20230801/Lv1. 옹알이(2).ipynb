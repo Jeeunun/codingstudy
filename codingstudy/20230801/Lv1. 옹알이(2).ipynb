{
 "cells": [
  {
   "cell_type": "markdown",
   "metadata": {},
   "source": [
    "### 옹알이(2)"
   ]
  },
  {
   "cell_type": "code",
   "execution_count": 1,
   "metadata": {},
   "outputs": [],
   "source": [
    "from itertools import permutations"
   ]
  },
  {
   "cell_type": "code",
   "execution_count": 2,
   "metadata": {},
   "outputs": [],
   "source": [
    "pronounce = [ \"aya\", \"ye\", \"woo\", \"ma\" ]\n",
    "\n",
    "all = []\n",
    "\n",
    "for i in range(len(pronounce)):\n",
    "    all.append(list(permutations(pronounce, i+1)))"
   ]
  },
  {
   "cell_type": "code",
   "execution_count": 3,
   "metadata": {},
   "outputs": [
    {
     "data": {
      "text/plain": [
       "[[('aya',), ('ye',), ('woo',), ('ma',)],\n",
       " [('aya', 'ye'),\n",
       "  ('aya', 'woo'),\n",
       "  ('aya', 'ma'),\n",
       "  ('ye', 'aya'),\n",
       "  ('ye', 'woo'),\n",
       "  ('ye', 'ma'),\n",
       "  ('woo', 'aya'),\n",
       "  ('woo', 'ye'),\n",
       "  ('woo', 'ma'),\n",
       "  ('ma', 'aya'),\n",
       "  ('ma', 'ye'),\n",
       "  ('ma', 'woo')],\n",
       " [('aya', 'ye', 'woo'),\n",
       "  ('aya', 'ye', 'ma'),\n",
       "  ('aya', 'woo', 'ye'),\n",
       "  ('aya', 'woo', 'ma'),\n",
       "  ('aya', 'ma', 'ye'),\n",
       "  ('aya', 'ma', 'woo'),\n",
       "  ('ye', 'aya', 'woo'),\n",
       "  ('ye', 'aya', 'ma'),\n",
       "  ('ye', 'woo', 'aya'),\n",
       "  ('ye', 'woo', 'ma'),\n",
       "  ('ye', 'ma', 'aya'),\n",
       "  ('ye', 'ma', 'woo'),\n",
       "  ('woo', 'aya', 'ye'),\n",
       "  ('woo', 'aya', 'ma'),\n",
       "  ('woo', 'ye', 'aya'),\n",
       "  ('woo', 'ye', 'ma'),\n",
       "  ('woo', 'ma', 'aya'),\n",
       "  ('woo', 'ma', 'ye'),\n",
       "  ('ma', 'aya', 'ye'),\n",
       "  ('ma', 'aya', 'woo'),\n",
       "  ('ma', 'ye', 'aya'),\n",
       "  ('ma', 'ye', 'woo'),\n",
       "  ('ma', 'woo', 'aya'),\n",
       "  ('ma', 'woo', 'ye')],\n",
       " [('aya', 'ye', 'woo', 'ma'),\n",
       "  ('aya', 'ye', 'ma', 'woo'),\n",
       "  ('aya', 'woo', 'ye', 'ma'),\n",
       "  ('aya', 'woo', 'ma', 'ye'),\n",
       "  ('aya', 'ma', 'ye', 'woo'),\n",
       "  ('aya', 'ma', 'woo', 'ye'),\n",
       "  ('ye', 'aya', 'woo', 'ma'),\n",
       "  ('ye', 'aya', 'ma', 'woo'),\n",
       "  ('ye', 'woo', 'aya', 'ma'),\n",
       "  ('ye', 'woo', 'ma', 'aya'),\n",
       "  ('ye', 'ma', 'aya', 'woo'),\n",
       "  ('ye', 'ma', 'woo', 'aya'),\n",
       "  ('woo', 'aya', 'ye', 'ma'),\n",
       "  ('woo', 'aya', 'ma', 'ye'),\n",
       "  ('woo', 'ye', 'aya', 'ma'),\n",
       "  ('woo', 'ye', 'ma', 'aya'),\n",
       "  ('woo', 'ma', 'aya', 'ye'),\n",
       "  ('woo', 'ma', 'ye', 'aya'),\n",
       "  ('ma', 'aya', 'ye', 'woo'),\n",
       "  ('ma', 'aya', 'woo', 'ye'),\n",
       "  ('ma', 'ye', 'aya', 'woo'),\n",
       "  ('ma', 'ye', 'woo', 'aya'),\n",
       "  ('ma', 'woo', 'aya', 'ye'),\n",
       "  ('ma', 'woo', 'ye', 'aya')]]"
      ]
     },
     "execution_count": 3,
     "metadata": {},
     "output_type": "execute_result"
    }
   ],
   "source": [
    "all"
   ]
  },
  {
   "cell_type": "code",
   "execution_count": 10,
   "metadata": {},
   "outputs": [
    {
     "name": "stdout",
     "output_type": "stream",
     "text": [
      "['aya', 'ye', 'woo', 'ma', 'ayaye', 'ayawoo', 'ayama', 'yeaya', 'yewoo', 'yema', 'wooaya', 'wooye', 'wooma', 'maaya', 'maye', 'mawoo', 'ayayewoo', 'ayayema', 'ayawooye', 'ayawooma', 'ayamaye', 'ayamawoo', 'yeayawoo', 'yeayama', 'yewooaya', 'yewooma', 'yemaaya', 'yemawoo', 'wooayaye', 'wooayama', 'wooyeaya', 'wooyema', 'woomaaya', 'woomaye', 'maayaye', 'maayawoo', 'mayeaya', 'mayewoo', 'mawooaya', 'mawooye', 'ayayewooma', 'ayayemawoo', 'ayawooyema', 'ayawoomaye', 'ayamayewoo', 'ayamawooye', 'yeayawooma', 'yeayamawoo', 'yewooayama', 'yewoomaaya', 'yemaayawoo', 'yemawooaya', 'wooayayema', 'wooayamaye', 'wooyeayama', 'wooyemaaya', 'woomaayaye', 'woomayeaya', 'maayayewoo', 'maayawooye', 'mayeayawoo', 'mayewooaya', 'mawooayaye', 'mawooyeaya']\n"
     ]
    }
   ],
   "source": [
    "my_string =[]\n",
    "for x in all:\n",
    "    for a in x:\n",
    "        my_string.append(\"\".join(a))\n",
    "print(my_string)"
   ]
  },
  {
   "cell_type": "code",
   "execution_count": 11,
   "metadata": {},
   "outputs": [
    {
     "data": {
      "text/plain": [
       "2"
      ]
     },
     "execution_count": 11,
     "metadata": {},
     "output_type": "execute_result"
    }
   ],
   "source": [
    "result = 0\n",
    "babbling = [\"ayaye\", \"uuu\", \"yeye\", \"yemawoo\", \"ayaayaa\"]\n",
    "for s in my_string:\n",
    "    if s in babbling:\n",
    "        result +=1\n",
    "\n",
    "result"
   ]
  },
  {
   "cell_type": "code",
   "execution_count": null,
   "metadata": {},
   "outputs": [],
   "source": []
  }
 ],
 "metadata": {
  "kernelspec": {
   "display_name": "Python 3",
   "language": "python",
   "name": "python3"
  },
  "language_info": {
   "codemirror_mode": {
    "name": "ipython",
    "version": 3
   },
   "file_extension": ".py",
   "mimetype": "text/x-python",
   "name": "python",
   "nbconvert_exporter": "python",
   "pygments_lexer": "ipython3",
   "version": "3.11.4"
  },
  "orig_nbformat": 4
 },
 "nbformat": 4,
 "nbformat_minor": 2
}
