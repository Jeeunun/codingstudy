{
 "cells": [
  {
   "cell_type": "markdown",
   "metadata": {},
   "source": [
    "### 옹알이(2)"
   ]
  },
  {
   "cell_type": "code",
   "execution_count": 8,
   "metadata": {},
   "outputs": [],
   "source": [
    "from itertools import permutations"
   ]
  },
  {
   "cell_type": "code",
   "execution_count": 9,
   "metadata": {},
   "outputs": [],
   "source": [
    "pronounce = [ \"aya\", \"ye\", \"woo\", \"ma\" ]\n",
    "\n",
    "all = []\n",
    "\n",
    "for i in range(len(pronounce)):\n",
    "    all.append(list(permutations(pronounce, i+1)))"
   ]
  },
  {
   "cell_type": "code",
   "execution_count": 10,
   "metadata": {},
   "outputs": [
    {
     "name": "stdout",
     "output_type": "stream",
     "text": [
      "['aya', 'ye', 'woo', 'ma', 'ayaye', 'ayawoo', 'ayama', 'yeaya', 'yewoo', 'yema', 'wooaya', 'wooye', 'wooma', 'maaya', 'maye', 'mawoo', 'ayayewoo', 'ayayema', 'ayawooye', 'ayawooma', 'ayamaye', 'ayamawoo', 'yeayawoo', 'yeayama', 'yewooaya', 'yewooma', 'yemaaya', 'yemawoo', 'wooayaye', 'wooayama', 'wooyeaya', 'wooyema', 'woomaaya', 'woomaye', 'maayaye', 'maayawoo', 'mayeaya', 'mayewoo', 'mawooaya', 'mawooye', 'ayayewooma', 'ayayemawoo', 'ayawooyema', 'ayawoomaye', 'ayamayewoo', 'ayamawooye', 'yeayawooma', 'yeayamawoo', 'yewooayama', 'yewoomaaya', 'yemaayawoo', 'yemawooaya', 'wooayayema', 'wooayamaye', 'wooyeayama', 'wooyemaaya', 'woomaayaye', 'woomayeaya', 'maayayewoo', 'maayawooye', 'mayeayawoo', 'mayewooaya', 'mawooayaye', 'mawooyeaya']\n"
     ]
    }
   ],
   "source": [
    "my_string =[]\n",
    "for x in all:\n",
    "    for a in x:\n",
    "        my_string.append(\"\".join(a))\n",
    "print(my_string)"
   ]
  },
  {
   "cell_type": "code",
   "execution_count": 11,
   "metadata": {},
   "outputs": [
    {
     "data": {
      "text/plain": [
       "2"
      ]
     },
     "execution_count": 11,
     "metadata": {},
     "output_type": "execute_result"
    }
   ],
   "source": [
    "result = 0\n",
    "babbling = [\"ayaye\", \"uuu\", \"yeye\", \"yemawoo\", \"ayaayaa\"]\n",
    "for s in my_string:\n",
    "    if s in babbling:\n",
    "        result +=1\n",
    "\n",
    "result"
   ]
  },
  {
   "cell_type": "code",
   "execution_count": null,
   "metadata": {},
   "outputs": [],
   "source": []
  }
 ],
 "metadata": {
  "kernelspec": {
   "display_name": "Python 3",
   "language": "python",
   "name": "python3"
  },
  "language_info": {
   "codemirror_mode": {
    "name": "ipython",
    "version": 3
   },
   "file_extension": ".py",
   "mimetype": "text/x-python",
   "name": "python",
   "nbconvert_exporter": "python",
   "pygments_lexer": "ipython3",
   "version": "3.11.4"
  },
  "orig_nbformat": 4
 },
 "nbformat": 4,
 "nbformat_minor": 2
}
