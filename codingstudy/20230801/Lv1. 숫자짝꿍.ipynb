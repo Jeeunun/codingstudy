{
 "cells": [
  {
   "cell_type": "markdown",
   "metadata": {},
   "source": [
    "두 정수 x,y\n",
    "\n",
    "임의의 자리에서 공통으로 나타나는 정수 k\n",
    "만들 수 있는 큰 정수를 두 수의 짝꿍\n",
    "\n",
    "짝꿍이 존재하지 않으면(임의의 자리에서 공통으로 나타나는 정수가 X) -> -1\n",
    "\n",
    "짝꿍이 0으로만 구성되어 있다면 -> 0"
   ]
  },
  {
   "cell_type": "code",
   "execution_count": 16,
   "metadata": {},
   "outputs": [],
   "source": [
    "x = 12321\n",
    "y = 42531\n",
    "\n",
    "xlist = list(str(x))\n",
    "ylist = list(str(y))"
   ]
  },
  {
   "cell_type": "code",
   "execution_count": 17,
   "metadata": {},
   "outputs": [
    {
     "data": {
      "text/plain": [
       "[1, 2, 3, 2, 1]"
      ]
     },
     "execution_count": 17,
     "metadata": {},
     "output_type": "execute_result"
    }
   ],
   "source": [
    "xnum = list(map(int, xlist))\n",
    "xnum"
   ]
  },
  {
   "cell_type": "code",
   "execution_count": 18,
   "metadata": {},
   "outputs": [
    {
     "data": {
      "text/plain": [
       "[4, 2, 5, 3, 1]"
      ]
     },
     "execution_count": 18,
     "metadata": {},
     "output_type": "execute_result"
    }
   ],
   "source": [
    "ynum = list(map(int, ylist))\n",
    "ynum"
   ]
  },
  {
   "cell_type": "code",
   "execution_count": 19,
   "metadata": {},
   "outputs": [
    {
     "data": {
      "text/plain": [
       "{1: 0, 2: 0, 3: 0}"
      ]
     },
     "execution_count": 19,
     "metadata": {},
     "output_type": "execute_result"
    }
   ],
   "source": [
    "xnumdict = {}\n",
    "for a in xnum:\n",
    "    xnumdict[a] = 0\n",
    "\n",
    "xnumdict"
   ]
  },
  {
   "cell_type": "code",
   "execution_count": 20,
   "metadata": {},
   "outputs": [
    {
     "data": {
      "text/plain": [
       "{1: 2, 2: 2, 3: 1}"
      ]
     },
     "execution_count": 20,
     "metadata": {},
     "output_type": "execute_result"
    }
   ],
   "source": [
    "for x in xnum:\n",
    "    xnumdict[x] += 1\n",
    "\n",
    "xnumdict"
   ]
  },
  {
   "cell_type": "code",
   "execution_count": 21,
   "metadata": {},
   "outputs": [
    {
     "data": {
      "text/plain": [
       "{4: 0, 2: 0, 5: 0, 3: 0, 1: 0}"
      ]
     },
     "execution_count": 21,
     "metadata": {},
     "output_type": "execute_result"
    }
   ],
   "source": [
    "ynumdict = {}\n",
    "for b in ynum:\n",
    "    ynumdict[b] = 0\n",
    "\n",
    "ynumdict"
   ]
  },
  {
   "cell_type": "code",
   "execution_count": 22,
   "metadata": {},
   "outputs": [
    {
     "data": {
      "text/plain": [
       "{4: 1, 2: 1, 5: 1, 3: 1, 1: 1}"
      ]
     },
     "execution_count": 22,
     "metadata": {},
     "output_type": "execute_result"
    }
   ],
   "source": [
    "for y in ynum:\n",
    "    ynumdict[y] += 1\n",
    "\n",
    "ynumdict"
   ]
  },
  {
   "cell_type": "code",
   "execution_count": 27,
   "metadata": {},
   "outputs": [
    {
     "name": "stdout",
     "output_type": "stream",
     "text": [
      "2\n",
      "1\n",
      "-------\n",
      "2\n",
      "1\n",
      "-------\n",
      "1\n",
      "1\n",
      "-------\n"
     ]
    }
   ],
   "source": [
    "for q in xnumdict.keys(): # 1,2,3\n",
    "    if q in ynumdict.keys(): # 1,2,3,4,5\n",
    "        print(xnumdict[q]) # q= 1,2,3\n",
    "        print(ynumdict[q])\n",
    "        print('-------')"
   ]
  },
  {
   "cell_type": "code",
   "execution_count": 32,
   "metadata": {},
   "outputs": [],
   "source": [
    "import math"
   ]
  },
  {
   "cell_type": "code",
   "execution_count": 35,
   "metadata": {},
   "outputs": [
    {
     "data": {
      "text/plain": [
       "1"
      ]
     },
     "execution_count": 35,
     "metadata": {},
     "output_type": "execute_result"
    }
   ],
   "source": [
    "count = (int(math.floor(xnumdict[q] + ynumdict[q] / 2)))\n",
    "count"
   ]
  },
  {
   "cell_type": "code",
   "execution_count": 37,
   "metadata": {},
   "outputs": [
    {
     "data": {
      "text/plain": [
       "[1, 2, 3]"
      ]
     },
     "execution_count": 37,
     "metadata": {},
     "output_type": "execute_result"
    }
   ],
   "source": [
    "add = []\n",
    "\n",
    "for x in xnumdict.keys():\n",
    "    if x in ynumdict.keys():\n",
    "        add.append(x)\n",
    "\n",
    "add\n"
   ]
  },
  {
   "cell_type": "code",
   "execution_count": 38,
   "metadata": {},
   "outputs": [
    {
     "data": {
      "text/plain": [
       "[1, 2, 3]"
      ]
     },
     "execution_count": 38,
     "metadata": {},
     "output_type": "execute_result"
    }
   ],
   "source": [
    "finallist = list(map(lambda x : x * count , add))\n",
    "finallist"
   ]
  },
  {
   "cell_type": "code",
   "execution_count": 39,
   "metadata": {},
   "outputs": [],
   "source": [
    "from itertools import permutations"
   ]
  },
  {
   "cell_type": "code",
   "execution_count": 40,
   "metadata": {},
   "outputs": [
    {
     "data": {
      "text/plain": [
       "[(1, 2, 3), (1, 3, 2), (2, 1, 3), (2, 3, 1), (3, 1, 2), (3, 2, 1)]"
      ]
     },
     "execution_count": 40,
     "metadata": {},
     "output_type": "execute_result"
    }
   ],
   "source": [
    "F = list(permutations(finallist, len(finallist)))\n",
    "F"
   ]
  },
  {
   "cell_type": "code",
   "execution_count": 49,
   "metadata": {},
   "outputs": [
    {
     "data": {
      "text/plain": [
       "(3, 2, 1)"
      ]
     },
     "execution_count": 49,
     "metadata": {},
     "output_type": "execute_result"
    }
   ],
   "source": [
    "F[-1]"
   ]
  },
  {
   "cell_type": "code",
   "execution_count": 51,
   "metadata": {},
   "outputs": [
    {
     "data": {
      "text/plain": [
       "'321'"
      ]
     },
     "execution_count": 51,
     "metadata": {},
     "output_type": "execute_result"
    }
   ],
   "source": [
    "result = []\n",
    "\n",
    "for v in F[-1]:\n",
    "    result.append(v)\n",
    "\n",
    "\"\".join(list(map(str,result)))"
   ]
  },
  {
   "cell_type": "markdown",
   "metadata": {},
   "source": [
    "*********"
   ]
  },
  {
   "cell_type": "code",
   "execution_count": 59,
   "metadata": {},
   "outputs": [],
   "source": [
    "from itertools import permutations"
   ]
  },
  {
   "cell_type": "code",
   "execution_count": 60,
   "metadata": {},
   "outputs": [
    {
     "data": {
      "text/plain": [
       "[('1', '2', '3', '2', '1'),\n",
       " ('1', '2', '3', '1', '2'),\n",
       " ('1', '2', '2', '3', '1'),\n",
       " ('1', '2', '2', '1', '3'),\n",
       " ('1', '2', '1', '3', '2'),\n",
       " ('1', '2', '1', '2', '3'),\n",
       " ('1', '3', '2', '2', '1'),\n",
       " ('1', '3', '2', '1', '2'),\n",
       " ('1', '3', '2', '2', '1'),\n",
       " ('1', '3', '2', '1', '2'),\n",
       " ('1', '3', '1', '2', '2'),\n",
       " ('1', '3', '1', '2', '2'),\n",
       " ('1', '2', '2', '3', '1'),\n",
       " ('1', '2', '2', '1', '3'),\n",
       " ('1', '2', '3', '2', '1'),\n",
       " ('1', '2', '3', '1', '2'),\n",
       " ('1', '2', '1', '2', '3'),\n",
       " ('1', '2', '1', '3', '2'),\n",
       " ('1', '1', '2', '3', '2'),\n",
       " ('1', '1', '2', '2', '3'),\n",
       " ('1', '1', '3', '2', '2'),\n",
       " ('1', '1', '3', '2', '2'),\n",
       " ('1', '1', '2', '2', '3'),\n",
       " ('1', '1', '2', '3', '2'),\n",
       " ('2', '1', '3', '2', '1'),\n",
       " ('2', '1', '3', '1', '2'),\n",
       " ('2', '1', '2', '3', '1'),\n",
       " ('2', '1', '2', '1', '3'),\n",
       " ('2', '1', '1', '3', '2'),\n",
       " ('2', '1', '1', '2', '3'),\n",
       " ('2', '3', '1', '2', '1'),\n",
       " ('2', '3', '1', '1', '2'),\n",
       " ('2', '3', '2', '1', '1'),\n",
       " ('2', '3', '2', '1', '1'),\n",
       " ('2', '3', '1', '1', '2'),\n",
       " ('2', '3', '1', '2', '1'),\n",
       " ('2', '2', '1', '3', '1'),\n",
       " ('2', '2', '1', '1', '3'),\n",
       " ('2', '2', '3', '1', '1'),\n",
       " ('2', '2', '3', '1', '1'),\n",
       " ('2', '2', '1', '1', '3'),\n",
       " ('2', '2', '1', '3', '1'),\n",
       " ('2', '1', '1', '3', '2'),\n",
       " ('2', '1', '1', '2', '3'),\n",
       " ('2', '1', '3', '1', '2'),\n",
       " ('2', '1', '3', '2', '1'),\n",
       " ('2', '1', '2', '1', '3'),\n",
       " ('2', '1', '2', '3', '1'),\n",
       " ('3', '1', '2', '2', '1'),\n",
       " ('3', '1', '2', '1', '2'),\n",
       " ('3', '1', '2', '2', '1'),\n",
       " ('3', '1', '2', '1', '2'),\n",
       " ('3', '1', '1', '2', '2'),\n",
       " ('3', '1', '1', '2', '2'),\n",
       " ('3', '2', '1', '2', '1'),\n",
       " ('3', '2', '1', '1', '2'),\n",
       " ('3', '2', '2', '1', '1'),\n",
       " ('3', '2', '2', '1', '1'),\n",
       " ('3', '2', '1', '1', '2'),\n",
       " ('3', '2', '1', '2', '1'),\n",
       " ('3', '2', '1', '2', '1'),\n",
       " ('3', '2', '1', '1', '2'),\n",
       " ('3', '2', '2', '1', '1'),\n",
       " ('3', '2', '2', '1', '1'),\n",
       " ('3', '2', '1', '1', '2'),\n",
       " ('3', '2', '1', '2', '1'),\n",
       " ('3', '1', '1', '2', '2'),\n",
       " ('3', '1', '1', '2', '2'),\n",
       " ('3', '1', '2', '1', '2'),\n",
       " ('3', '1', '2', '2', '1'),\n",
       " ('3', '1', '2', '1', '2'),\n",
       " ('3', '1', '2', '2', '1'),\n",
       " ('2', '1', '2', '3', '1'),\n",
       " ('2', '1', '2', '1', '3'),\n",
       " ('2', '1', '3', '2', '1'),\n",
       " ('2', '1', '3', '1', '2'),\n",
       " ('2', '1', '1', '2', '3'),\n",
       " ('2', '1', '1', '3', '2'),\n",
       " ('2', '2', '1', '3', '1'),\n",
       " ('2', '2', '1', '1', '3'),\n",
       " ('2', '2', '3', '1', '1'),\n",
       " ('2', '2', '3', '1', '1'),\n",
       " ('2', '2', '1', '1', '3'),\n",
       " ('2', '2', '1', '3', '1'),\n",
       " ('2', '3', '1', '2', '1'),\n",
       " ('2', '3', '1', '1', '2'),\n",
       " ('2', '3', '2', '1', '1'),\n",
       " ('2', '3', '2', '1', '1'),\n",
       " ('2', '3', '1', '1', '2'),\n",
       " ('2', '3', '1', '2', '1'),\n",
       " ('2', '1', '1', '2', '3'),\n",
       " ('2', '1', '1', '3', '2'),\n",
       " ('2', '1', '2', '1', '3'),\n",
       " ('2', '1', '2', '3', '1'),\n",
       " ('2', '1', '3', '1', '2'),\n",
       " ('2', '1', '3', '2', '1'),\n",
       " ('1', '1', '2', '3', '2'),\n",
       " ('1', '1', '2', '2', '3'),\n",
       " ('1', '1', '3', '2', '2'),\n",
       " ('1', '1', '3', '2', '2'),\n",
       " ('1', '1', '2', '2', '3'),\n",
       " ('1', '1', '2', '3', '2'),\n",
       " ('1', '2', '1', '3', '2'),\n",
       " ('1', '2', '1', '2', '3'),\n",
       " ('1', '2', '3', '1', '2'),\n",
       " ('1', '2', '3', '2', '1'),\n",
       " ('1', '2', '2', '1', '3'),\n",
       " ('1', '2', '2', '3', '1'),\n",
       " ('1', '3', '1', '2', '2'),\n",
       " ('1', '3', '1', '2', '2'),\n",
       " ('1', '3', '2', '1', '2'),\n",
       " ('1', '3', '2', '2', '1'),\n",
       " ('1', '3', '2', '1', '2'),\n",
       " ('1', '3', '2', '2', '1'),\n",
       " ('1', '2', '1', '2', '3'),\n",
       " ('1', '2', '1', '3', '2'),\n",
       " ('1', '2', '2', '1', '3'),\n",
       " ('1', '2', '2', '3', '1'),\n",
       " ('1', '2', '3', '1', '2'),\n",
       " ('1', '2', '3', '2', '1')]"
      ]
     },
     "execution_count": 60,
     "metadata": {},
     "output_type": "execute_result"
    }
   ],
   "source": [
    "A = list(permutations(add, len(add)))\n",
    "A"
   ]
  },
  {
   "cell_type": "code",
   "execution_count": 61,
   "metadata": {},
   "outputs": [
    {
     "data": {
      "text/plain": [
       "32211"
      ]
     },
     "execution_count": 61,
     "metadata": {},
     "output_type": "execute_result"
    }
   ],
   "source": [
    "numlist = []\n",
    "for r in range(len(A)):\n",
    "    numlist.append(\"\".join(A[r]))\n",
    "\n",
    "max(list(map(int,numlist)))"
   ]
  },
  {
   "cell_type": "code",
   "execution_count": null,
   "metadata": {},
   "outputs": [],
   "source": []
  },
  {
   "cell_type": "code",
   "execution_count": null,
   "metadata": {},
   "outputs": [],
   "source": []
  }
 ],
 "metadata": {
  "kernelspec": {
   "display_name": "Python 3",
   "language": "python",
   "name": "python3"
  },
  "language_info": {
   "codemirror_mode": {
    "name": "ipython",
    "version": 3
   },
   "file_extension": ".py",
   "mimetype": "text/x-python",
   "name": "python",
   "nbconvert_exporter": "python",
   "pygments_lexer": "ipython3",
   "version": "3.11.4"
  },
  "orig_nbformat": 4
 },
 "nbformat": 4,
 "nbformat_minor": 2
}
