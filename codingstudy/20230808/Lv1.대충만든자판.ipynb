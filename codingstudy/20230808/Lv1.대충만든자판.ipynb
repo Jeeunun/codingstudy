{
 "cells": [
  {
   "cell_type": "markdown",
   "metadata": {},
   "source": [
    "## 대충 만든 자판\n",
    "\n",
    "휴대폰의 자판은 컴퓨터 키보드 자판과는 다르게 하나의 키에 여러 개의 문자가 할당될 수 있습니다. 키 하나에 여러 문자가 할당된 경우, 동일한 키를 연속해서 빠르게 누르면 할당된 순서대로 문자가 바뀝니다.\n",
    "\n",
    "예를 들어, 1번 키에 \"A\", \"B\", \"C\" 순서대로 문자가 할당되어 있다면 1번 키를 한 번 누르면 \"A\", 두 번 누르면 \"B\", 세 번 누르면 \"C\"가 되는 식입니다.\n",
    "\n",
    "같은 규칙을 적용해 아무렇게나 만든 휴대폰 자판이 있습니다. 이 휴대폰 자판은 키의 개수가 1개부터 최대 100개까지 있을 수 있으며, 특정 키를 눌렀을 때 입력되는 문자들도 무작위로 배열되어 있습니다. 또, 같은 문자가 자판 전체에 여러 번 할당된 경우도 있고, 키 하나에 같은 문자가 여러 번 할당된 경우도 있습니다. 심지어 아예 할당되지 않은 경우도 있습니다. 따라서 몇몇 문자열은 작성할 수 없을 수도 있습니다.\n",
    "\n",
    "이 휴대폰 자판을 이용해 특정 문자열을 작성할 때, 키를 최소 몇 번 눌러야 그 문자열을 작성할 수 있는지 알아보고자 합니다.\n",
    "\n",
    "1번 키부터 차례대로 할당된 문자들이 순서대로 담긴 문자열배열 keymap과 입력하려는 문자열들이 담긴 문자열 배열 targets가 주어질 때, 각 문자열을 작성하기 위해 키를 최소 몇 번씩 눌러야 하는지 순서대로 배열에 담아 return 하는 solution 함수를 완성해 주세요.\n",
    "\n",
    "단, 목표 문자열을 작성할 수 없을 때는 -1을 저장합니다.\n",
    "\n",
    "|keymap|targets|result|\n",
    "|----|----|---|\n",
    "|[\"ABACD\", \"BCEFD\"]|[\"ABCD\",\"AABB\"]|[9, 4]|\n",
    "|[\"AA\"]|[\"B\"]|[-1]|\n",
    "|[\"AGZ\", \"BSSS\"]|[\"ASA\",\"BGZ\"]|[4, 6]|"
   ]
  },
  {
   "cell_type": "markdown",
   "metadata": {},
   "source": [
    "[1번키, 2번키]\n",
    "\n",
    "[1번키] -> 1번키 A(+1), 2번키 B, 3번키 A, 4번키 C, 5번키 D(+1) <br>\n",
    "[2번키] -> 1번키 B(+1), 2번키 C(+1), 3번키 E, 4번키 F, 5번키 D <br>\n",
    "\n",
    "\n",
    "딕셔너리 : key(인덱스), value(문자) "
   ]
  },
  {
   "cell_type": "code",
   "execution_count": 33,
   "metadata": {},
   "outputs": [
    {
     "data": {
      "text/plain": [
       "{0: {1: 'A', 2: 'B', 3: 'A', 4: 'C', 5: 'D'},\n",
       " 1: {1: 'B', 2: 'C', 3: 'E', 4: 'F', 5: 'D'}}"
      ]
     },
     "execution_count": 33,
     "metadata": {},
     "output_type": "execute_result"
    }
   ],
   "source": [
    "keymap = [\"ABACD\", \"BCEFD\"]\n",
    "\n",
    "keydict = {}\n",
    "\n",
    "for a in range(len(keymap)):\n",
    "    keydict[a] = {}\n",
    "    for i,v in enumerate(keymap[a]): \n",
    "        keydict[a][i+1] = (v)\n",
    " \n",
    "keydict"
   ]
  },
  {
   "cell_type": "code",
   "execution_count": 34,
   "metadata": {},
   "outputs": [
    {
     "name": "stdout",
     "output_type": "stream",
     "text": [
      "dict_items([(1, 'A'), (2, 'B'), (3, 'A'), (4, 'C'), (5, 'D')])\n",
      "dict_items([(1, 'B'), (2, 'C'), (3, 'E'), (4, 'F'), (5, 'D')])\n"
     ]
    }
   ],
   "source": [
    "for x in keydict.values():\n",
    "    print(x.items())"
   ]
  },
  {
   "cell_type": "code",
   "execution_count": 35,
   "metadata": {},
   "outputs": [
    {
     "name": "stdout",
     "output_type": "stream",
     "text": [
      "{1: 'A', 2: 'B', 3: 'A', 4: 'C', 5: 'D'}\n",
      "{1: 'B', 2: 'C', 3: 'E', 4: 'F', 5: 'D'}\n"
     ]
    }
   ],
   "source": [
    "for x in keydict.values():\n",
    "    print(x)"
   ]
  },
  {
   "cell_type": "code",
   "execution_count": 37,
   "metadata": {},
   "outputs": [
    {
     "data": {
      "text/plain": [
       "[{1: 'A', 2: 'B', 3: 'A', 4: 'C', 5: 'D'},\n",
       " {1: 'B', 2: 'C', 3: 'E', 4: 'F', 5: 'D'}]"
      ]
     },
     "execution_count": 37,
     "metadata": {},
     "output_type": "execute_result"
    }
   ],
   "source": [
    "ls = [] \n",
    "for v in keydict.values():\n",
    "    ls.append(v)\n",
    "\n",
    "ls"
   ]
  },
  {
   "cell_type": "code",
   "execution_count": 39,
   "metadata": {},
   "outputs": [],
   "source": [
    "from itertools import chain\n",
    "from collections import defaultdict"
   ]
  },
  {
   "cell_type": "code",
   "execution_count": 40,
   "metadata": {},
   "outputs": [
    {
     "name": "stdout",
     "output_type": "stream",
     "text": [
      "1 ['A', 'B']\n",
      "2 ['B', 'C']\n",
      "3 ['A', 'E']\n",
      "4 ['C', 'F']\n",
      "5 ['D', 'D']\n"
     ]
    }
   ],
   "source": [
    "d = defaultdict(list)\n",
    "for l in range(len(ls)):\n",
    "    for k, v in chain(ls[l].items()):\n",
    "        d[k].append(v)\n",
    "\n",
    "for k, v in d.items():\n",
    "    print(k,v)"
   ]
  },
  {
   "cell_type": "code",
   "execution_count": 50,
   "metadata": {},
   "outputs": [
    {
     "data": {
      "text/plain": [
       "defaultdict(list,\n",
       "            {1: ['A', 'B'],\n",
       "             2: ['B', 'C'],\n",
       "             3: ['A', 'E'],\n",
       "             4: ['C', 'F'],\n",
       "             5: ['D', 'D']})"
      ]
     },
     "execution_count": 50,
     "metadata": {},
     "output_type": "execute_result"
    }
   ],
   "source": [
    "d"
   ]
  },
  {
   "cell_type": "code",
   "execution_count": null,
   "metadata": {},
   "outputs": [],
   "source": []
  }
 ],
 "metadata": {
  "kernelspec": {
   "display_name": "Python 3",
   "language": "python",
   "name": "python3"
  },
  "language_info": {
   "codemirror_mode": {
    "name": "ipython",
    "version": 3
   },
   "file_extension": ".py",
   "mimetype": "text/x-python",
   "name": "python",
   "nbconvert_exporter": "python",
   "pygments_lexer": "ipython3",
   "version": "3.11.4"
  },
  "orig_nbformat": 4
 },
 "nbformat": 4,
 "nbformat_minor": 2
}
