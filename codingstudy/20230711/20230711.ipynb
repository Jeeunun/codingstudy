{
 "cells": [
  {
   "attachments": {},
   "cell_type": "markdown",
   "metadata": {},
   "source": [
    "### 두 개 뽑아서 더하기"
   ]
  },
  {
   "attachments": {},
   "cell_type": "markdown",
   "metadata": {},
   "source": [
    "> 정수 배열 numbers가 주어집니다. numbers에서 서로 다른 인덱스에 있는 두 개의 수를 뽑아 <br>\n",
    "더해서 만들 수 있는 모든 수를 배열에 오름차순으로 담아 return 하도록 solution 함수를 완성해주세요.  \n",
    "> \n",
    "|numbers | result |\n",
    "|--------|--------|\n",
    "|[2,1,3,4,1]|[2,3,4,5,6,7]|\n",
    "|[5,0,2,7]|[2,5,7,9,12]|"
   ]
  },
  {
   "cell_type": "code",
   "execution_count": 16,
   "metadata": {},
   "outputs": [],
   "source": [
    "# 1) 예제 (전수조사)\n",
    "numbers = [2,1,3,4,1]\n",
    "\n",
    "# -1. 결과값을 담을 빈 리스트 생성\n",
    "result = []\n",
    "\n",
    "# -2. 전수조사 후 중복제거(set)\n",
    "for i in range(len(numbers)): \n",
    "    for j in numbers[i+1:]: \n",
    "        result.append(numbers[i]+j)\n",
    "set(result)\n",
    "\n",
    "\n",
    "# 2) 함수구현\n",
    "def solution(numbers):\n",
    "    answer = []\n",
    "    for i in range(len(numbers)):\n",
    "        for j in numbers[i+1:]:\n",
    "            answer.append(numbers[i]+j)\n",
    "    return set(answer)\n",
    "\n"
   ]
  },
  {
   "cell_type": "code",
   "execution_count": 17,
   "metadata": {},
   "outputs": [
    {
     "data": {
      "text/plain": [
       "{2, 5, 7, 9, 12}"
      ]
     },
     "execution_count": 17,
     "metadata": {},
     "output_type": "execute_result"
    }
   ],
   "source": [
    "solution([5,0,2,7])"
   ]
  },
  {
   "cell_type": "code",
   "execution_count": 14,
   "metadata": {},
   "outputs": [
    {
     "data": {
      "text/plain": [
       "{2, 3, 4, 5, 6, 7, 8}"
      ]
     },
     "execution_count": 14,
     "metadata": {},
     "output_type": "execute_result"
    }
   ],
   "source": [
    "# 2) 정훈 : dictionary + while /try, except\n",
    "numbers = [2,1,3,4,1]\n",
    "numdict = {num: numbers.count(num) for num in numbers}\n",
    "numdict\n",
    "\n",
    "result = []\n",
    "for x in numdict.keys():\n",
    "    for y in numdict.keys():\n",
    "        if numdict.values()!=1:\n",
    "            result.append(x+y)\n",
    "set(result)\n",
    "\n",
    "while True:\n",
    "    try:\n",
    "        map(lambda x : x for x in numdict.keys())\n",
    "\n",
    "    except: #예외를 어떻게 만들지..\n",
    "        break\n",
    "\n",
    "\n",
    "# 3) set.add()도 풀어보기"
   ]
  },
  {
   "cell_type": "code",
   "execution_count": null,
   "metadata": {},
   "outputs": [],
   "source": [
    "# while\n",
    "\n",
    "while True:\n",
    "    if \n",
    "for x in numdict.keys():\n",
    "    for y in numdict.keys():\n",
    "        if numdict.values()!=1:\n",
    "            result.append(x+y)\n",
    "set(result)"
   ]
  },
  {
   "cell_type": "markdown",
   "metadata": {},
   "source": [
    "### --------------------------------------------------------------------------------"
   ]
  },
  {
   "attachments": {},
   "cell_type": "markdown",
   "metadata": {},
   "source": [
    "### 푸드 파이트 대회"
   ]
  },
  {
   "cell_type": "markdown",
   "metadata": {},
   "source": [
    "> food에는 칼로리가 적은 순서대로 음식의 양이 담겨 있습니다. <br>\n",
    "> food[i]는 i번 음식의 수입니다. <br>\n",
    "> food[0]은 수웅이가 준비한 물의 양이며, 항상 1입니다. <br>\n",
    "> \n",
    "> \n",
    "|food | result |\n",
    "|--------|--------|\n",
    "|[1, 3, 4, 6]|\"1223330333221\" |\n",
    "|[1, 7, 1, 2]|\"111303111\"|"
   ]
  },
  {
   "cell_type": "code",
   "execution_count": 100,
   "metadata": {},
   "outputs": [],
   "source": [
    "# 1) 예제 \n",
    "# -1. 1(1번음식//2) /22(2번음식//2) /333(3번음식//2)\n",
    "food = [1, 7, 1, 2] \n",
    "Llist = []\n",
    "for i in range(1,len(food)):\n",
    "    Llist.append((((food[i]//2)))*str(i)) #인덱스번호만큼 반복시키기위해 문자로 변환\n",
    "# Llist #['1', '22', '333']\n",
    "\n",
    "# -2. Llist뒤집기 = Rlist\n",
    "Rlist = Llist[::-1]\n",
    "Rlist #['333', '22', '1']\n",
    "\n",
    "# -3. Llist와 Rlist를 합치고, 물(index[0])은 중간에 추가하기\n",
    "result = Llist+Rlist\n",
    "result.insert(len(result)//2,'0')\n",
    "result #['1', '22', '333', '0', '333', '22', '1']\n",
    "\n",
    "# -4. 문자 합치기\n",
    "answer = \"\".join(result)\n",
    "answer #'1223330333221'\n",
    "\n",
    "# ''join() => 구분자로 나누고 합치기 (<-> split의 반대라고 볼 수 있다. )\n",
    "\n",
    "# 2) 함수구현\n",
    "def solution(food):\n",
    "    Llist = []\n",
    "    for i in range(1,len(food)):\n",
    "        Llist.append((((food[i]//2)))*str(i))\n",
    "    Rlist = Llist[::-1]\n",
    "    result = Llist+Rlist\n",
    "    result.insert(len(result)//2,'0')   \n",
    "    answer = ''.join(result)\n",
    "    return answer"
   ]
  },
  {
   "cell_type": "markdown",
   "metadata": {},
   "source": [
    "### --------------------------------------------------------------------------------"
   ]
  },
  {
   "attachments": {},
   "cell_type": "markdown",
   "metadata": {},
   "source": [
    "### 가장 가까운 같은 글자"
   ]
  },
  {
   "attachments": {},
   "cell_type": "markdown",
   "metadata": {},
   "source": [
    "> 문자열 s가 주어졌을 때, s의 각 위치마다 자신보다 앞에 나왔으면서, 자신과 가장 가까운 곳에 있는 같은 글자가 어디 있는지 알고 싶습니다.\n",
    ">\n",
    "| s | result |\n",
    "|---|---------|\n",
    "|\"banana\"|[-1, -1, -1, 2, 2, 2]|\n",
    "|\"foobar\"|[-1, -1, 1, -1, -1, -1]|\n"
   ]
  },
  {
   "cell_type": "code",
   "execution_count": null,
   "metadata": {},
   "outputs": [],
   "source": [
    "# 1) 예제\n",
    "\n",
    "# 2) 함수구현"
   ]
  },
  {
   "cell_type": "code",
   "execution_count": null,
   "metadata": {},
   "outputs": [],
   "source": [
    "# 힌트\n",
    "temp=dict.fromkeys(list(s))\n",
    "for letter in temp.keys():\n",
    "    temp[letter]=s.find(letter)"
   ]
  },
  {
   "cell_type": "code",
   "execution_count": 73,
   "metadata": {},
   "outputs": [
    {
     "data": {
      "text/plain": [
       "[-1, -1, -1, -1, -1, -1]"
      ]
     },
     "execution_count": 73,
     "metadata": {},
     "output_type": "execute_result"
    }
   ],
   "source": [
    "s = 'banana'\n",
    "# -1. 값을 담을 list 생성\n",
    "result = []\n",
    "\n",
    "# -2. enumerate(index,value)\n",
    "for i in enumerate(s):\n",
    "    # print(i)\n",
    "    if i[1] not in result:       \n",
    "        result.append(-1)\n",
    "    else:\n",
    "        result.append(i[0])\n",
    "result\n",
    "    "
   ]
  },
  {
   "cell_type": "code",
   "execution_count": 53,
   "metadata": {},
   "outputs": [
    {
     "data": {
      "text/plain": [
       "[1, 3, 5]"
      ]
     },
     "execution_count": 53,
     "metadata": {},
     "output_type": "execute_result"
    }
   ],
   "source": [
    "s = 'banana'\n",
    "rest_list = list(filter(lambda x: s[x] == 'a', range(len(s))))\n",
    "rest_list"
   ]
  },
  {
   "cell_type": "code",
   "execution_count": 62,
   "metadata": {},
   "outputs": [
    {
     "data": {
      "text/plain": [
       "1"
      ]
     },
     "execution_count": 62,
     "metadata": {},
     "output_type": "execute_result"
    }
   ],
   "source": [
    "s = 'banana'\n",
    "s.find('a')"
   ]
  },
  {
   "cell_type": "markdown",
   "metadata": {},
   "source": [
    "### --------------------------------------------------------------------------------"
   ]
  },
  {
   "attachments": {},
   "cell_type": "markdown",
   "metadata": {},
   "source": [
    "### 콜라 문제"
   ]
  },
  {
   "attachments": {},
   "cell_type": "markdown",
   "metadata": {},
   "source": [
    "> 빈 병 a <br>\n",
    "> 빈 병 a개를 가져다주면 콜라 b 병을 준다.  <br>\n",
    "> 빈 병의 개수 n <br>\n",
    ">  콜라를 받기 위해 마트에 주어야 하는 병 수 a, <br>\n",
    "빈 병 a개를 가져다 주면 마트가 주는 콜라 병 수 b, <br>\n",
    "상빈이가 가지고 있는 빈 병의 개수 n <br>\n",
    "> 상빈이가 받을 수 있는 콜라의 병 수 result <br>\n",
    ">\n",
    "|a | b | n | result |\n",
    "|--|---|---|--------|\n",
    "| 2 | 1 | 20 | 19 |\n",
    "| 3 | 1 | 20 | 9 | <br>\n"
   ]
  },
  {
   "cell_type": "code",
   "execution_count": 40,
   "metadata": {},
   "outputs": [
    {
     "data": {
      "text/plain": [
       "8"
      ]
     },
     "execution_count": 40,
     "metadata": {},
     "output_type": "execute_result"
    }
   ],
   "source": [
    "# 1) 예제\n",
    "a =3\n",
    "b = 1\n",
    "n = 20\n",
    "result = []\n",
    "# -1. 빈병 a개를 가져다주면 마트가 주는 콜라 병 수b는 n//a와 같다.\n",
    "result.append(n//a)\n",
    "# <1> 갖고 있는 n의 수 =>  n//a + n%a\n",
    "n = (n//a)*b + n%a\n",
    "result.append(n//a)\n",
    "# <2> 갖고 있는 n의 수 => n//a + n%a\n",
    "n = (n//a)*b + n%a\n",
    "result.append(n//a)\n",
    "# <3> 갖고 있는 n의 수 => n//a + n%a\n",
    "n = (n//a)*b + n%a\n",
    "result.append(n//a)\n",
    "# <4> 갖고 있는 n의수 < a 인 경우 멈춤!\n",
    "\n",
    "# -2. 예제 풀기\n",
    "a = 3\n",
    "b = 1\n",
    "n = 20\n",
    "result = []\n",
    "while True:\n",
    "    if n<a:\n",
    "        break\n",
    "    result.append((n//a)*b)\n",
    "    n =  (n//a)*b + n%a\n",
    "\n",
    "result #[6, 2, 1]\n",
    "answer = sum(result) #9\n",
    "\n",
    "# 2) 함수구현\n",
    "def solution(a, b, n):\n",
    "    result = []\n",
    "    while True:\n",
    "        if n<a:\n",
    "            break\n",
    "        result.append((n//a)*b)\n",
    "        n =  (n//a)*b + n%a\n",
    "    answer = sum(result)\n",
    "    return answer"
   ]
  },
  {
   "cell_type": "markdown",
   "metadata": {},
   "source": [
    "### --------------------------------------------------------------------------------"
   ]
  },
  {
   "attachments": {},
   "cell_type": "markdown",
   "metadata": {},
   "source": [
    "### 추억점수"
   ]
  },
  {
   "attachments": {},
   "cell_type": "markdown",
   "metadata": {},
   "source": [
    "> 사진 속 인물의 그리움 점수 합한 값 = 추억점수\n",
    "> 인물(name : str) = [\"may\", \"kein\", \"kain\", \"radi\"] <br>\n",
    "> 그리움 점수(yearning : int) = [5, 10, 1, 3] <br>\n",
    "> 사진 속 인물의 배열(photo : str) = [[\"may\", \"kein\", \"kain\", \"radi\"],[\"may\", \"kein\", \"brin\", \"deny\"], [\"kon\", \"kain\", \"may\", \"coni\"]] <br>\n",
    "> 추억점수(result) = [19, 15, 6]"
   ]
  },
  {
   "cell_type": "code",
   "execution_count": 21,
   "metadata": {},
   "outputs": [
    {
     "data": {
      "text/plain": [
       "[19, 15, 6]"
      ]
     },
     "execution_count": 21,
     "metadata": {},
     "output_type": "execute_result"
    }
   ],
   "source": [
    "# 1) 예제\n",
    "name = [\"may\", \"kein\", \"kain\", \"radi\"] \n",
    "yearning = [5, 10, 1, 3] \n",
    "photo = [[\"may\", \"kein\", \"kain\", \"radi\"],[\"may\", \"kein\", \"brin\", \"deny\"], [\"kon\", \"kain\", \"may\", \"coni\"]]\n",
    "\n",
    "# -1.결과값을 담을 result 리스트 생성\n",
    "result = []\n",
    "\n",
    "# -2. 리스트를 딕셔너리로 만들기.\n",
    "# 딕셔너리 = {name(str) : yearning(int)}\n",
    "yearn_dict = dict(zip(name, yearning))\n",
    "yearn_dict\n",
    "    # 출력결과 : name = key, yearning = value\n",
    "    # {'may': 5, 'kein': 10, 'kain': 1, 'radi': 3}\n",
    "\n",
    "# -3. for 반복문 => yearn_dict.key(=name)과 일치하면 score에 yearn_dict['이름'](=value값) 더하기\n",
    "score = 0\n",
    "for p in photo:\n",
    "    for i in p:\n",
    "        if i in yearn_dict.keys():\n",
    "            score+=yearn_dict[i] #=yearn_dict에 없으면 score=0\n",
    "    result.append(score)\n",
    "    score = 0\n",
    "result\n",
    "    \n",
    "# 2) 함수구현\n",
    "def solution(name, yearning, photo):\n",
    "    answer = [] #=result\n",
    "    yearn_dict = dict(zip(name, yearning)) # 딕셔너리 만들기\n",
    "    score = 0 # 초기값 셋팅\n",
    "    for p in photo:\n",
    "        for i in p:\n",
    "            if i in yearn_dict.keys():\n",
    "                score+=yearn_dict[i]\n",
    "        answer.append(score) # p마다 계산해야 하니까 두번째 for문 밖에 \n",
    "        score = 0 # p마다 계산해야하니까 score=0로 다시 셋팅\n",
    "    return answer\n",
    "\n",
    "# ---------------------------------\n",
    "for p in photo:\n",
    "    for i in p:\n",
    "        if i not in yearn_dict.keys():\n",
    "            p.remove(i)"
   ]
  }
 ],
 "metadata": {
  "kernelspec": {
   "display_name": "Python 3",
   "language": "python",
   "name": "python3"
  },
  "language_info": {
   "codemirror_mode": {
    "name": "ipython",
    "version": 3
   },
   "file_extension": ".py",
   "mimetype": "text/x-python",
   "name": "python",
   "nbconvert_exporter": "python",
   "pygments_lexer": "ipython3",
   "version": "3.11.4"
  },
  "orig_nbformat": 4
 },
 "nbformat": 4,
 "nbformat_minor": 2
}
