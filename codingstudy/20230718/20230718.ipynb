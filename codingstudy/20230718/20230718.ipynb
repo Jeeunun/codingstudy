{
 "cells": [
  {
   "cell_type": "markdown",
   "metadata": {},
   "source": [
    "## 2016 년"
   ]
  },
  {
   "cell_type": "code",
   "execution_count": 44,
   "metadata": {},
   "outputs": [
    {
     "data": {
      "text/plain": [
       "'TUE'"
      ]
     },
     "execution_count": 44,
     "metadata": {},
     "output_type": "execute_result"
    }
   ],
   "source": [
    "#20160101 금요일 -> 출발점\n",
    "a = 5\n",
    "b = 24\n",
    "\n",
    "day = ['THU','FRI','SAT','SUN','MON','TUE','WED']\n",
    "months = [31,29,31,30,31,30,31,31,30,31,30,31]\n",
    "\n",
    "# a는 인덱스의 역할 / b는 일수 => 7로 나눈값의 나머지 = 요일\n",
    "#원하는 날짜의 일까지 합 : \n",
    "daysum = sum(months[:(a-1)])+ b\n",
    "# 요일을 구하기 위해 7로 나누기 => 나머지 => day의 인덱스\n",
    "day[daysum%7]"
   ]
  },
  {
   "cell_type": "code",
   "execution_count": 46,
   "metadata": {},
   "outputs": [],
   "source": [
    "def solution(a,b):\n",
    "    day = ['THU','FRI','SAT','SUN','MON','TUE','WED']\n",
    "    months = [31,29,31,30,31,30,31,31,30,31,30,31]\n",
    "    daysum = sum(months[:(a-1)])+ b\n",
    "    return day[daysum%7]"
   ]
  },
  {
   "cell_type": "code",
   "execution_count": 47,
   "metadata": {},
   "outputs": [
    {
     "data": {
      "text/plain": [
       "'TUE'"
      ]
     },
     "execution_count": 47,
     "metadata": {},
     "output_type": "execute_result"
    }
   ],
   "source": [
    "solution(5,24)"
   ]
  },
  {
   "cell_type": "markdown",
   "metadata": {},
   "source": [
    "## 명예의 전당(1)"
   ]
  },
  {
   "cell_type": "code",
   "execution_count": 77,
   "metadata": {},
   "outputs": [
    {
     "data": {
      "text/plain": [
       "[10, 10, 10, 20, 20, 100, 100]"
      ]
     },
     "execution_count": 77,
     "metadata": {},
     "output_type": "execute_result"
    }
   ],
   "source": [
    "k = 3\n",
    "score = [10, 100, 20, 150, 1, 100, 200]\n",
    "\n",
    "winner = []\n",
    "result = []\n",
    "for s in score:\n",
    "    if len(winner) < k:\n",
    "        winner.append(s)\n",
    "        winner.sort(reverse=True)\n",
    "        result.append(winner[-1])\n",
    "\n",
    "    elif len(winner) >= k :\n",
    "        winner.append(s)\n",
    "        winner.sort(reverse=True)\n",
    "        del winner[-1]\n",
    "        result.append(winner[-1])\n",
    "result\n",
    "            "
   ]
  },
  {
   "cell_type": "code",
   "execution_count": null,
   "metadata": {},
   "outputs": [],
   "source": [
    "\n"
   ]
  },
  {
   "cell_type": "markdown",
   "metadata": {},
   "source": [
    "## 폰켓몬"
   ]
  },
  {
   "cell_type": "code",
   "execution_count": 28,
   "metadata": {},
   "outputs": [
    {
     "data": {
      "text/plain": [
       "3.0"
      ]
     },
     "execution_count": 28,
     "metadata": {},
     "output_type": "execute_result"
    }
   ],
   "source": [
    "# 갖고 있는 폰켓몬의 수와 뽑아야 하는 폰켓몬의 수를 비교하기\n",
    "# 1) 갖고 있는 폰켓몬의 수 > 뽑아야 하는 폰켓몬의 수\n",
    "nums = [3,1,2,3]\n",
    "set(nums) # 1,2,3 => 갖고 있는 폰켓몬의 수는 3개\n",
    "len(nums)/2 # 2 => 뽑아야 하는 폰켓몬의 수는 2개\n",
    "# => 즉, 3개 중에서 2개 뽑기 => 뽑아야 하는 폰켓몬의 수\n",
    "\n",
    "# 2) 갖고 있는 폰켓몬의 수 < 뽑아야 하는 폰켓몬의 수\n",
    "nums = [3,3,3,2,2,2]\n",
    "set(nums) # 2,3 => 갖고 있는 폰켓몬의 수는 2개\n",
    "len(nums)/2 # 3 => 뽑아야 하는 폰켓몬의 수는 3개 \n",
    "# => 즉, 2개 중에서 3개 아무거나 뽑으면 된다. => 갖고 있는 폰켓몬의 수"
   ]
  },
  {
   "cell_type": "code",
   "execution_count": null,
   "metadata": {},
   "outputs": [],
   "source": [
    "def solution(nums):\n",
    "    choice = len(set(nums))\n",
    "\n",
    "    if len(nums) / 2 > choice: \n",
    "        return choice\n",
    "    else: \n",
    "        return len(nums) / 2 "
   ]
  },
  {
   "cell_type": "markdown",
   "metadata": {},
   "source": [
    "## 과일점수 (다시..)"
   ]
  },
  {
   "cell_type": "markdown",
   "metadata": {},
   "source": [
    "사과상태 점수-> 1(최하품) ~k(최상품)\n",
    "사과 한 상자의 가격 -> 상자에 담긴 사과 중 가장 낮은 점수가 p인 경우 : 사과 한상자의 가격은 p*m \n"
   ]
  },
  {
   "cell_type": "code",
   "execution_count": 29,
   "metadata": {},
   "outputs": [
    {
     "data": {
      "text/plain": [
       "[[1, 1, 2], [2, 2, 2], [4, 4, 4], [4, 4, 4]]"
      ]
     },
     "execution_count": 29,
     "metadata": {},
     "output_type": "execute_result"
    }
   ],
   "source": [
    "k = 4\n",
    "m = 3\n",
    "score = [4, 1, 2, 2, 4, 4, 4, 4, 1, 2, 4, 2]\n",
    "score.sort()\n",
    "score\n",
    "slist = []\n",
    "for i in range(len(score)//m): #i=0~3\n",
    "    slist.append((score[i*m:(i*m)+m]))\n",
    "slist\n",
    "result = []\n",
    "for x in slist:\n",
    "    result.append(x[0]*m)\n",
    "result\n",
    "sum = 0\n",
    "for r in result:\n",
    "    sum+=r\n",
    "sum"
   ]
  },
  {
   "cell_type": "code",
   "execution_count": null,
   "metadata": {},
   "outputs": [],
   "source": [
    "k = 3\n",
    "m = 4\n",
    "score = [1, 2, 3, 1, 2, 3, 1]\n",
    "score.sort()\n",
    "result = []\n",
    "for i in range(m+1):\n",
    "    result.append(score[i]*m)\n",
    "result\n",
    "sum = 0\n",
    "for r in result:\n",
    "    sum+=r\n",
    "sum"
   ]
  },
  {
   "cell_type": "code",
   "execution_count": 75,
   "metadata": {},
   "outputs": [
    {
     "data": {
      "text/plain": [
       "8"
      ]
     },
     "execution_count": 75,
     "metadata": {},
     "output_type": "execute_result"
    }
   ],
   "source": [
    "k = 3\n",
    "m = 4\n",
    "score = [1, 2, 3, 1, 2, 3, 1]\n",
    "score.sort(reverse=True)\n",
    "(score[:m][-1]) * m * (len(score)//m)"
   ]
  },
  {
   "cell_type": "code",
   "execution_count": 61,
   "metadata": {},
   "outputs": [
    {
     "data": {
      "text/plain": [
       "[4, 4, 4, 4, 4, 4, 2, 2, 2, 2, 1, 1]"
      ]
     },
     "execution_count": 61,
     "metadata": {},
     "output_type": "execute_result"
    }
   ],
   "source": [
    "m = 3\n",
    "score = [4, 1, 2, 2, 4, 4, 4, 4, 1, 2, 4, 2]\n",
    "score.sort(reverse=True)\n",
    "score[:m+1]"
   ]
  },
  {
   "cell_type": "code",
   "execution_count": null,
   "metadata": {},
   "outputs": [],
   "source": [
    "\n"
   ]
  },
  {
   "cell_type": "markdown",
   "metadata": {},
   "source": [
    "## 카드뭉치"
   ]
  },
  {
   "cell_type": "markdown",
   "metadata": {},
   "source": [
    "> cards1 = [\"i\", \"drink\", \"water\"] <br>\n",
    "cards2 = [\"want\", \"to\"] <br>\n",
    "goal = [\"i\", \"want\", \"to\", \"drink\", \"water\"] <br>\n",
    "<br>\n",
    "cards1과 cards2에 적힌 단어들로 goal를 만들 있다면 \"Yes\"를, 만들 수 없다면 \"No\"를 return하는 solution 함수를 완성해주세요. <br>"
   ]
  },
  {
   "cell_type": "code",
   "execution_count": 10,
   "metadata": {},
   "outputs": [
    {
     "data": {
      "text/plain": [
       "'iwanttowaterdrink'"
      ]
     },
     "execution_count": 10,
     "metadata": {},
     "output_type": "execute_result"
    }
   ],
   "source": [
    "# 첫 시도>>>\n",
    "# 문자열 합치고 비교!\n",
    "cards1 = [\"i\", \"water\", \"drink\"]\n",
    "cards2 = [\"want\", \"to\"]\n",
    "goal = [\"i\", \"want\", \"to\", \"drink\", \"water\"]\n",
    "\n",
    "# - 문자열 합치기\n",
    "ggoal = \" \".join(goal).replace(\" \",\"\") #'iwanttodrinkwater'\n",
    "ccards2 = \" \".join(cards2).replace(\" \",\"\") #'wantto'\n",
    "ccards1 = \" \".join(cards1).replace(\" \",\"\") # 'iwaterdrink'\n",
    "\n",
    "# - cards2를 cards1에 삽입 = cards3\n",
    "cards3 = ccards1[0] + ccards2 + ccards1[1:]\n",
    "cards3 #'iwanttowaterdrink'\n",
    "\n",
    "# - cards3 와 goal비교\n",
    "if cards3 == ggoal:\n",
    "    print(\"YES\")\n",
    "else:\n",
    "    print(\"NO\")\n",
    "\n",
    "#-----------------------\n",
    "# 2) 함수 (근데 프로그래머스에서 안돌아감...엉엉)\n",
    "def solution(cards1, cards2, goal):\n",
    "    ggoal = \" \".join(goal).replace(\" \",\"\") #'iwanttodrinkwater'\n",
    "    ccards2 = \" \".join(cards2).replace(\" \",\"\") #'wantto'\n",
    "    ccards1 = \" \".join(cards1).replace(\" \",\"\") # 'iwaterdrink'\n",
    "\n",
    "    cards3 = ccards1[0] + ccards2 + ccards1[1:]\n",
    "\n",
    "    if cards3 == ggoal:\n",
    "        return (\"YES\")\n",
    "    else:\n",
    "        return (\"NO\")"
   ]
  },
  {
   "cell_type": "code",
   "execution_count": 16,
   "metadata": {},
   "outputs": [
    {
     "data": {
      "text/plain": [
       "['i', 'want', 'to', 'water']"
      ]
     },
     "execution_count": 16,
     "metadata": {},
     "output_type": "execute_result"
    }
   ],
   "source": [
    "# 두번째 시도>>\n",
    "# 두 개의 인덱스 변수를 이용해 순차적으로 비교\n",
    "cards1 = [\"i\", \"water\", \"drink\"]\n",
    "cards2 = [\"want\", \"to\"]\n",
    "goal = [\"i\", \"want\", \"to\", \"drink\", \"water\"]\n",
    "\n",
    "#비교대상이 될 answer\n",
    "answer = []\n",
    "x = len(cards1) #3\n",
    "y = len(cards2) #2\n",
    "\n",
    "i = 0\n",
    "j = 0\n",
    "\n",
    "for g in goal:\n",
    "    # g가 나올때마다 cards1과 cards2의 인덱스값을 비교해본다.\n",
    "    if i < x and g == cards1[i]:\n",
    "        answer.append(cards1[i])\n",
    "        i+=1\n",
    "    if j < y and g == cards2[j]:\n",
    "        answer.append(cards2[j])\n",
    "        j+=1\n",
    "    # answer = ['i','want','to','water']\n",
    "    # 비교하기 \n",
    "    if answer == goal:\n",
    "        print ('Yes')\n",
    "    else:\n",
    "         print ('No')"
   ]
  },
  {
   "cell_type": "code",
   "execution_count": 17,
   "metadata": {},
   "outputs": [],
   "source": [
    "def solution(cards1,cards2,goal):\n",
    "    answer = []\n",
    "    x = len(cards1)\n",
    "    y = len(cards2)\n",
    "    i=j=0\n",
    "    for g in goal:\n",
    "        if i < x and g == cards1[i]:\n",
    "            answer.append(cards1[i])\n",
    "            i+=1\n",
    "        if j < y and g == cards2[j]:\n",
    "            answer.append(cards2[j])\n",
    "            j+=1\n",
    "        \n",
    "    if answer == goal:\n",
    "        return 'Yes'\n",
    "    else:\n",
    "        return 'No'\n"
   ]
  },
  {
   "cell_type": "code",
   "execution_count": null,
   "metadata": {},
   "outputs": [],
   "source": []
  }
 ],
 "metadata": {
  "kernelspec": {
   "display_name": "Python 3",
   "language": "python",
   "name": "python3"
  },
  "language_info": {
   "codemirror_mode": {
    "name": "ipython",
    "version": 3
   },
   "file_extension": ".py",
   "mimetype": "text/x-python",
   "name": "python",
   "nbconvert_exporter": "python",
   "pygments_lexer": "ipython3",
   "version": "3.11.4"
  },
  "orig_nbformat": 4
 },
 "nbformat": 4,
 "nbformat_minor": 2
}
