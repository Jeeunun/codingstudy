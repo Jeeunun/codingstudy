{
 "cells": [
  {
   "cell_type": "code",
   "execution_count": 1,
   "metadata": {},
   "outputs": [],
   "source": [
    "import numpy as np"
   ]
  },
  {
   "cell_type": "code",
   "execution_count": 2,
   "metadata": {},
   "outputs": [],
   "source": [
    "result = []\n",
    "linedict = {}"
   ]
  },
  {
   "cell_type": "code",
   "execution_count": 3,
   "metadata": {},
   "outputs": [
    {
     "name": "stdout",
     "output_type": "stream",
     "text": [
      "[0 0 0 0 0]\n",
      "[0 0 1 0 3]\n",
      "[0 2 5 0 1]\n",
      "[4 2 4 4 2]\n",
      "[3 5 1 3 1]\n"
     ]
    }
   ],
   "source": [
    "board = [[0,0,0,0,0],[0,0,1,0,3],[0,2,5,0,1],[4,2,4,4,2],[3,5,1,3,1]]\n",
    "for b in board:\n",
    "    print(np.array(b))"
   ]
  },
  {
   "cell_type": "code",
   "execution_count": 72,
   "metadata": {},
   "outputs": [
    {
     "data": {
      "text/plain": [
       "{1: None, 2: None, 3: None, 4: None, 5: None}"
      ]
     },
     "execution_count": 72,
     "metadata": {},
     "output_type": "execute_result"
    }
   ],
   "source": [
    "# 딕셔너리의 키 생성\n",
    "N = 5\n",
    "linedict = linedict.fromkeys(range(1,N+1))\n",
    "linedict"
   ]
  },
  {
   "cell_type": "code",
   "execution_count": 73,
   "metadata": {},
   "outputs": [
    {
     "name": "stdout",
     "output_type": "stream",
     "text": [
      "0 0\n",
      "1 0\n",
      "2 0\n",
      "3 0\n",
      "4 0\n",
      "0 1\n",
      "1 1\n",
      "2 1\n",
      "3 1\n",
      "4 1\n",
      "0 2\n",
      "1 2\n",
      "2 2\n",
      "3 2\n",
      "4 2\n",
      "0 3\n",
      "1 3\n",
      "2 3\n",
      "3 3\n",
      "4 3\n",
      "0 4\n",
      "1 4\n",
      "2 4\n",
      "3 4\n",
      "4 4\n"
     ]
    }
   ],
   "source": [
    "for i in range(N):\n",
    "    for j in range(N):\n",
    "        print(j,i)"
   ]
  },
  {
   "cell_type": "code",
   "execution_count": 74,
   "metadata": {},
   "outputs": [],
   "source": [
    "# 딕셔너리 벨류 생성\n",
    "N=5\n",
    "board = [[0,0,0,0,0],[0,0,1,0,3],[0,2,5,0,1],[4,2,4,4,2],[3,5,1,3,1]]\n",
    "for i in range(N):\n",
    "    linedict[i+1]=[]\n",
    "    for j in range(N):\n",
    "        linedict[i+1].append(board[j][i])"
   ]
  },
  {
   "cell_type": "code",
   "execution_count": 75,
   "metadata": {},
   "outputs": [],
   "source": [
    "# i=0\n",
    "# [x[i] for x in board]\n",
    "\n",
    "# for i in range(5):\n",
    "#     linedict[i+1] = [x[i] for x in board] "
   ]
  },
  {
   "cell_type": "code",
   "execution_count": 76,
   "metadata": {},
   "outputs": [],
   "source": [
    "for l in linedict.values():\n",
    "    for i in l[:]:\n",
    "        if i == 0:\n",
    "            l.remove(i)"
   ]
  },
  {
   "cell_type": "code",
   "execution_count": 77,
   "metadata": {},
   "outputs": [
    {
     "data": {
      "text/plain": [
       "{1: [4, 3], 2: [2, 2, 5], 3: [1, 5, 4, 1], 4: [4, 3], 5: [3, 1, 2, 1]}"
      ]
     },
     "execution_count": 77,
     "metadata": {},
     "output_type": "execute_result"
    }
   ],
   "source": [
    "linedict"
   ]
  },
  {
   "cell_type": "code",
   "execution_count": null,
   "metadata": {},
   "outputs": [],
   "source": []
  },
  {
   "cell_type": "code",
   "execution_count": 78,
   "metadata": {},
   "outputs": [],
   "source": [
    "moves = [1,5,3,5,1,2,1,4]\n",
    "result = []\n",
    "for m in moves:\n",
    "    if not linedict[m]: #만약 값이 없으면\n",
    "        result.append(\" \") #빈칸으로 채우기\n",
    "    else:\n",
    "        result.append(linedict[m][0]) #값이 있으면 젤 위에 있는 값을 result에 넣기\n",
    "        linedict[m].pop(0)  # dictionary value값 삭제 \n",
    "\n",
    "# result = [4,3,1,1,3,2,\"\",4]"
   ]
  },
  {
   "cell_type": "code",
   "execution_count": 79,
   "metadata": {},
   "outputs": [
    {
     "data": {
      "text/plain": [
       "[4, 3, 1, 1, 3, 2, ' ', 4]"
      ]
     },
     "execution_count": 79,
     "metadata": {},
     "output_type": "execute_result"
    }
   ],
   "source": [
    "result"
   ]
  },
  {
   "cell_type": "code",
   "execution_count": 51,
   "metadata": {},
   "outputs": [
    {
     "data": {
      "text/plain": [
       "1"
      ]
     },
     "execution_count": 51,
     "metadata": {},
     "output_type": "execute_result"
    }
   ],
   "source": [
    "result[:][2]"
   ]
  },
  {
   "cell_type": "code",
   "execution_count": 66,
   "metadata": {},
   "outputs": [],
   "source": [
    "cnt = 0\n",
    "a = [1,2,3,4,4,5]\n",
    "for x in a[:]:\n",
    "    if x == 4:\n",
    "        a.remove(x)\n",
    "        cnt+=1"
   ]
  },
  {
   "cell_type": "code",
   "execution_count": 67,
   "metadata": {},
   "outputs": [
    {
     "data": {
      "text/plain": [
       "2"
      ]
     },
     "execution_count": 67,
     "metadata": {},
     "output_type": "execute_result"
    }
   ],
   "source": [
    "cnt"
   ]
  },
  {
   "cell_type": "code",
   "execution_count": 68,
   "metadata": {},
   "outputs": [
    {
     "data": {
      "text/plain": [
       "[4, 3, 1, 1, 3, 2, ' ', 4]"
      ]
     },
     "execution_count": 68,
     "metadata": {},
     "output_type": "execute_result"
    }
   ],
   "source": [
    "result2 = result.copy()\n",
    "result2"
   ]
  },
  {
   "cell_type": "code",
   "execution_count": 57,
   "metadata": {},
   "outputs": [
    {
     "ename": "ValueError",
     "evalue": "list.remove(x): x not in list",
     "output_type": "error",
     "traceback": [
      "\u001b[1;31m---------------------------------------------------------------------------\u001b[0m",
      "\u001b[1;31mValueError\u001b[0m                                Traceback (most recent call last)",
      "Cell \u001b[1;32mIn[57], line 7\u001b[0m\n\u001b[0;32m      5\u001b[0m \u001b[39mfor\u001b[39;00m i \u001b[39min\u001b[39;00m \u001b[39mrange\u001b[39m(\u001b[39mlen\u001b[39m(result2)\u001b[39m-\u001b[39m\u001b[39m1\u001b[39m): \u001b[39m# i=0~6\u001b[39;00m\n\u001b[0;32m      6\u001b[0m     \u001b[39mif\u001b[39;00m result2[i] \u001b[39m==\u001b[39m result2[i\u001b[39m+\u001b[39m\u001b[39m1\u001b[39m]:\n\u001b[1;32m----> 7\u001b[0m         result\u001b[39m.\u001b[39;49mremove(result[i:i\u001b[39m+\u001b[39;49m\u001b[39m1\u001b[39;49m])\n\u001b[0;32m      8\u001b[0m         cnt\u001b[39m+\u001b[39m\u001b[39m=\u001b[39m\u001b[39m2\u001b[39m\n\u001b[0;32m      9\u001b[0m         i\u001b[39m+\u001b[39m\u001b[39m=\u001b[39m\u001b[39m1\u001b[39m\n",
      "\u001b[1;31mValueError\u001b[0m: list.remove(x): x not in list"
     ]
    }
   ],
   "source": [
    "# 중복되는 값은 지워보자.\n",
    "cnt = 0\n",
    "i = 0\n",
    "while i < len(result):\n",
    "    for i in range(len(result2)-1): # i=0~6\n",
    "        if result2[i] == result2[i+1]:\n",
    "            result.remove(result[i])\n",
    "            result.remove(result[i+1])\n",
    "            cnt+=2\n",
    "            i+=1\n",
    "        else:\n",
    "            i+=1\n",
    "            continue\n"
   ]
  },
  {
   "cell_type": "code",
   "execution_count": 56,
   "metadata": {},
   "outputs": [
    {
     "data": {
      "text/plain": [
       "[4, 3, 1, 1, 3, 2, ' ', 4]"
      ]
     },
     "execution_count": 56,
     "metadata": {},
     "output_type": "execute_result"
    }
   ],
   "source": [
    "result"
   ]
  },
  {
   "cell_type": "code",
   "execution_count": 40,
   "metadata": {},
   "outputs": [
    {
     "data": {
      "text/plain": [
       "2"
      ]
     },
     "execution_count": 40,
     "metadata": {},
     "output_type": "execute_result"
    }
   ],
   "source": [
    "cnt"
   ]
  },
  {
   "cell_type": "code",
   "execution_count": null,
   "metadata": {},
   "outputs": [],
   "source": [
    "\n",
    "]\n"
   ]
  },
  {
   "cell_type": "code",
   "execution_count": null,
   "metadata": {},
   "outputs": [],
   "source": [
    "linedict = linedict.fromkeys(range(1,N+1)) #딕셔너리 key 생성\n",
    "for i in range(N):\n",
    "    linedict[i+1]=[]\n",
    "    for j in range(N):\n",
    "        linedict[i+1].append(board[j][i]) #딕셔너리 value 생성\n",
    "\n",
    "for l in linedict.values():\n",
    "    for i in l[:]: #딕셔너리의 value를 복사하는 이유 : remove를 하면서 인덱스 누락이 발생하기 때문(따라서 원본 복사본을 통해 제거)\n",
    "        if i == 0:\n",
    "            l.remove(i)\n",
    "\n",
    "result = []\n",
    "for m in moves:\n",
    "    if not linedict[m]: #만약 값이 없으면\n",
    "        result.append(\" \") #빈칸으로 채우기\n",
    "    else:\n",
    "        result.append(linedict[m][0]) #값이 있으면 젤 위에 있는 값을 result에 넣기\n",
    "        linedict[m].pop(0)  # dictionary value값 삭제 \n",
    "\n"
   ]
  }
 ],
 "metadata": {
  "kernelspec": {
   "display_name": "Python 3",
   "language": "python",
   "name": "python3"
  },
  "language_info": {
   "codemirror_mode": {
    "name": "ipython",
    "version": 3
   },
   "file_extension": ".py",
   "mimetype": "text/x-python",
   "name": "python",
   "nbconvert_exporter": "python",
   "pygments_lexer": "ipython3",
   "version": "3.9.13"
  },
  "orig_nbformat": 4
 },
 "nbformat": 4,
 "nbformat_minor": 2
}
