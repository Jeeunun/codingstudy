{
 "cells": [
  {
   "cell_type": "code",
   "execution_count": 1,
   "metadata": {},
   "outputs": [],
   "source": [
    "s = 'aukks'\n",
    "skip = 'wbqd'\n",
    "index = 5"
   ]
  },
  {
   "cell_type": "code",
   "execution_count": 7,
   "metadata": {},
   "outputs": [],
   "source": [
    "alpha = ['a','b','c','d','e','f','g','h','i','j','k'\n",
    "         ,'l','m','n','o','p','q','r','s','t','u','v','w','x','y','z']\n",
    "\n",
    "#모든알파벳을 담은 리스트에서 skip 제외시키기\n",
    "for al in alpha: \n",
    "    if al in skip:\n",
    "        alpha.remove(al)"
   ]
  },
  {
   "cell_type": "code",
   "execution_count": 8,
   "metadata": {},
   "outputs": [
    {
     "data": {
      "text/plain": [
       "['a',\n",
       " 'c',\n",
       " 'e',\n",
       " 'f',\n",
       " 'g',\n",
       " 'h',\n",
       " 'i',\n",
       " 'j',\n",
       " 'k',\n",
       " 'l',\n",
       " 'm',\n",
       " 'n',\n",
       " 'o',\n",
       " 'p',\n",
       " 'r',\n",
       " 's',\n",
       " 't',\n",
       " 'u',\n",
       " 'v',\n",
       " 'x',\n",
       " 'y',\n",
       " 'z']"
      ]
     },
     "execution_count": 8,
     "metadata": {},
     "output_type": "execute_result"
    }
   ],
   "source": [
    "alpha"
   ]
  },
  {
   "cell_type": "code",
   "execution_count": 22,
   "metadata": {},
   "outputs": [
    {
     "ename": "IndexError",
     "evalue": "list index out of range",
     "output_type": "error",
     "traceback": [
      "\u001b[1;31m---------------------------------------------------------------------------\u001b[0m",
      "\u001b[1;31mIndexError\u001b[0m                                Traceback (most recent call last)",
      "Cell \u001b[1;32mIn[22], line 6\u001b[0m\n\u001b[0;32m      4\u001b[0m \u001b[39mfor\u001b[39;00m i \u001b[39min\u001b[39;00m s:\n\u001b[0;32m      5\u001b[0m     \u001b[39mif\u001b[39;00m p \u001b[39m==\u001b[39m i:\n\u001b[1;32m----> 6\u001b[0m         result\u001b[39m.\u001b[39mappend(alpha[alpha\u001b[39m.\u001b[39;49mindex(i) \u001b[39m+\u001b[39;49m index])\n",
      "\u001b[1;31mIndexError\u001b[0m: list index out of range"
     ]
    }
   ],
   "source": [
    "# s의 원소를 찾아서 +index 한 뒤 result에 담기 \n",
    "result = []\n",
    "for p in alpha:\n",
    "    for i in s:\n",
    "        if p == i:\n",
    "            result.append(alpha[alpha.index(i) + index]) # 근데, alpha가 반복이 안되서 out of range 오류가 난다."
   ]
  },
  {
   "cell_type": "markdown",
   "metadata": {},
   "source": [
    "************"
   ]
  },
  {
   "cell_type": "code",
   "execution_count": 23,
   "metadata": {},
   "outputs": [],
   "source": [
    "alpha = ['a','b','c','d','e','f','g','h','i','j','k'\n",
    "         ,'l','m','n','o','p','q','r','s','t','u','v','w','x','y','z']\n",
    "index = 5\n",
    "s = 'aukks'\n",
    "skip = 'wbqd'"
   ]
  },
  {
   "cell_type": "code",
   "execution_count": 24,
   "metadata": {},
   "outputs": [],
   "source": [
    "for al in alpha: \n",
    "    if al in skip:\n",
    "        alpha.remove(al) # skip값 제거하기"
   ]
  },
  {
   "cell_type": "code",
   "execution_count": 25,
   "metadata": {},
   "outputs": [
    {
     "data": {
      "text/plain": [
       "['a',\n",
       " 'c',\n",
       " 'e',\n",
       " 'f',\n",
       " 'g',\n",
       " 'h',\n",
       " 'i',\n",
       " 'j',\n",
       " 'k',\n",
       " 'l',\n",
       " 'm',\n",
       " 'n',\n",
       " 'o',\n",
       " 'p',\n",
       " 'r',\n",
       " 's',\n",
       " 't',\n",
       " 'u',\n",
       " 'v',\n",
       " 'x',\n",
       " 'y',\n",
       " 'z']"
      ]
     },
     "execution_count": 25,
     "metadata": {},
     "output_type": "execute_result"
    }
   ],
   "source": [
    "alpha"
   ]
  },
  {
   "cell_type": "code",
   "execution_count": 53,
   "metadata": {},
   "outputs": [],
   "source": [
    "sdict = {}\n",
    "\n",
    "for i,v in enumerate(alpha):\n",
    "    sdict[i] = v"
   ]
  },
  {
   "cell_type": "code",
   "execution_count": 54,
   "metadata": {},
   "outputs": [
    {
     "data": {
      "text/plain": [
       "{0: 'a',\n",
       " 1: 'c',\n",
       " 2: 'e',\n",
       " 3: 'f',\n",
       " 4: 'g',\n",
       " 5: 'h',\n",
       " 6: 'i',\n",
       " 7: 'j',\n",
       " 8: 'k',\n",
       " 9: 'l',\n",
       " 10: 'm',\n",
       " 11: 'n',\n",
       " 12: 'o',\n",
       " 13: 'p',\n",
       " 14: 'r',\n",
       " 15: 's',\n",
       " 16: 't',\n",
       " 17: 'u',\n",
       " 18: 'v',\n",
       " 19: 'x',\n",
       " 20: 'y',\n",
       " 21: 'z'}"
      ]
     },
     "execution_count": 54,
     "metadata": {},
     "output_type": "execute_result"
    }
   ],
   "source": [
    "sdict"
   ]
  },
  {
   "cell_type": "code",
   "execution_count": 55,
   "metadata": {},
   "outputs": [
    {
     "data": {
      "text/plain": [
       "dict_items([(0, 'a'), (1, 'c'), (2, 'e'), (3, 'f'), (4, 'g'), (5, 'h'), (6, 'i'), (7, 'j'), (8, 'k'), (9, 'l'), (10, 'm'), (11, 'n'), (12, 'o'), (13, 'p'), (14, 'r'), (15, 's'), (16, 't'), (17, 'u'), (18, 'v'), (19, 'x'), (20, 'y'), (21, 'z')])"
      ]
     },
     "execution_count": 55,
     "metadata": {},
     "output_type": "execute_result"
    }
   ],
   "source": [
    "sdict.items()"
   ]
  },
  {
   "cell_type": "code",
   "execution_count": 56,
   "metadata": {},
   "outputs": [],
   "source": [
    "result = []\n",
    "for st in s:\n",
    "    for k,v in sdict.items():\n",
    "        if v == st:\n",
    "            if k > 16:\n",
    "                result.append(sdict[k+5 - len(sdict)])\n",
    "            else: \n",
    "                result.append(sdict[k+5])"
   ]
  },
  {
   "cell_type": "code",
   "execution_count": 59,
   "metadata": {},
   "outputs": [
    {
     "data": {
      "text/plain": [
       "'happy'"
      ]
     },
     "execution_count": 59,
     "metadata": {},
     "output_type": "execute_result"
    }
   ],
   "source": [
    "answer = \"\".join(result)\n",
    "answer"
   ]
  },
  {
   "cell_type": "code",
   "execution_count": null,
   "metadata": {},
   "outputs": [],
   "source": [
    "alpha = ['a','b','c','d','e','f','g','h','i','j','k'\n",
    "         ,'l','m','n','o','p','q','r','s','t','u','v','w','x','y','z']\n",
    "index = 5\n",
    "s = 'aukks'\n",
    "skip = 'wbqd'\n",
    "\n",
    "for al in alpha: \n",
    "    if al in skip:\n",
    "        alpha.remove(al) # skip값 제거하기\n",
    "\n",
    "sdict = {} #딕셔너리 생성\n",
    "\n",
    "for i,v in enumerate(alpha): \n",
    "    sdict[i] = v # key = 문자, value = 인덱스값 \n",
    "\n",
    "result = []\n",
    "for st in s:\n",
    "    for k,v in sdict.items():\n",
    "        if v == st:\n",
    "            if k > 16: #\n",
    "                result.append(sdict[k+5 - len(sdict)])\n",
    "            else: \n",
    "                result.append(sdict[k+5])\n",
    "answer = \"\".join(result)\n",
    "answer"
   ]
  }
 ],
 "metadata": {
  "kernelspec": {
   "display_name": "Python 3",
   "language": "python",
   "name": "python3"
  },
  "language_info": {
   "codemirror_mode": {
    "name": "ipython",
    "version": 3
   },
   "file_extension": ".py",
   "mimetype": "text/x-python",
   "name": "python",
   "nbconvert_exporter": "python",
   "pygments_lexer": "ipython3",
   "version": "3.11.4"
  },
  "orig_nbformat": 4
 },
 "nbformat": 4,
 "nbformat_minor": 2
}
