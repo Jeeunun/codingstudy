{
 "cells": [
  {
   "cell_type": "markdown",
   "metadata": {},
   "source": [
    "이 전화 키패드에서 왼손과 오른손의 엄지손가락만을 이용해서 숫자만을 입력하려고 합니다.\n",
    "맨 처음 왼손 엄지손가락은 * 키패드에 오른손 엄지손가락은 # 키패드 위치에서 시작하며, 엄지손가락을 사용하는 규칙은 다음과 같습니다.\n",
    "\n",
    "엄지손가락은 상하좌우 4가지 방향으로만 이동할 수 있으며 키패드 이동 한 칸은 거리로 1에 해당합니다.\n",
    "왼쪽 열의 3개의 숫자 1, 4, 7을 입력할 때는 왼손 엄지손가락을 사용합니다.\n",
    "오른쪽 열의 3개의 숫자 3, 6, 9를 입력할 때는 오른손 엄지손가락을 사용합니다.\n",
    "가운데 열의 4개의 숫자 2, 5, 8, 0을 입력할 때는 두 엄지손가락의 현재 키패드의 위치에서 더 가까운 엄지손가락을 사용합니다.\n",
    "4-1. 만약 두 엄지손가락의 거리가 같다면, 오른손잡이는 오른손 엄지손가락, 왼손잡이는 왼손 엄지손가락을 사용합니다.\n",
    "순서대로 누를 번호가 담긴 배열 numbers, 왼손잡이인지 오른손잡이인 지를 나타내는 문자열 hand가 매개변수로 주어질 때, 각 번호를 누른 엄지손가락이 왼손인 지 오른손인 지를 나타내는 연속된 문자열 형태로 return 하도록 solution 함수를 완성해주세요.\n",
    "\n",
    "[제한사항]\n",
    "numbers 배열의 크기는 1 이상 1,000 이하입니다.\n",
    "numbers 배열 원소의 값은 0 이상 9 이하인 정수입니다.\n",
    "hand는 \"left\" 또는 \"right\" 입니다.\n",
    "\"left\"는 왼손잡이, \"right\"는 오른손잡이를 의미합니다.\n",
    "왼손 엄지손가락을 사용한 경우는 L, 오른손 엄지손가락을 사용한 경우는 R을 순서대로 이어붙여 문자열 형태로 return 해주세요.\n",
    "\n",
    "|numbers|hand|result|\n",
    "|---|---|---|\n",
    "|[1, 3, 4, 5, 8, 2, 1, 4, 5, 9, 5]|\"right\"|\"LRLLLRLLRRL\"|\n",
    "|[7, 0, 8, 2, 8, 3, 1, 5, 7, 6, 2]|\"left\"|\"LRLLRRLLLRR\"|\n",
    "|[1, 2, 3, 4, 5, 6, 7, 8, 9, 0]|\"right\"|\"LLRLLRLLRL\"|"
   ]
  },
  {
   "cell_type": "code",
   "execution_count": null,
   "metadata": {},
   "outputs": [],
   "source": [
    "L = [1,4,7]\n",
    "R = [3,6,9]\n",
    "\n",
    "# 2, 5, 8, 0 인 경우 \n",
    "# 더 가까운 엄지손가락 사용 = 앞 번호가 L,R인지 확인할 필요\n",
    "# 두 엄지손가락 거리가 같다면, 오른손잡이=R, 왼손잡이=L\n",
    "\n",
    "numbers = [1,3,4,5,8,2,1,4,5,9,5]\n",
    "hand = 'right'\n",
    "\n",
    "result = []\n",
    "for n in numbers:\n",
    "    if n in L:\n",
    "        result.append('L')\n",
    "    elif n in R:\n",
    "        result.append('R')\n",
    "    else: #2,5,8,0\n",
    "        "
   ]
  },
  {
   "cell_type": "code",
   "execution_count": 1,
   "metadata": {},
   "outputs": [
    {
     "data": {
      "text/plain": [
       "'R'"
      ]
     },
     "execution_count": 1,
     "metadata": {},
     "output_type": "execute_result"
    }
   ],
   "source": [
    "numbers = [1,3,4,5,8,2,1,4,5,9,5]\n",
    "hand = 'right'\n",
    "hand[0].upper()"
   ]
  },
  {
   "cell_type": "code",
   "execution_count": 9,
   "metadata": {},
   "outputs": [
    {
     "data": {
      "text/plain": [
       "4"
      ]
     },
     "execution_count": 9,
     "metadata": {},
     "output_type": "execute_result"
    }
   ],
   "source": [
    "numbers = [1,3,4,5,8,2,1,4,5,9,5]\n",
    "\n",
    "numbers[numbers.index(5) - 1]"
   ]
  },
  {
   "cell_type": "code",
   "execution_count": null,
   "metadata": {},
   "outputs": [],
   "source": [
    "# 누른 키패드의 번호의 이전 값이 1,4,7,*인경우 => L\n",
    "# 누른 키패드의 번호의 이전 값이 3,6,9,#인경우 => R\n",
    "if numbers[numbers.index(n) - 1] in L:\n",
    "    result.append('L')\n",
    "elif numbers[numbers.index(n) - 1] in R:\n",
    "    result.append('R')\n",
    "elif numbers[numbers.index(n) + 1] - numbers[numbers.index(n) - 1] == 2:\n",
    "    result.append(list(hand)[0].upper())\n"
   ]
  },
  {
   "cell_type": "code",
   "execution_count": null,
   "metadata": {},
   "outputs": [],
   "source": []
  },
  {
   "cell_type": "code",
   "execution_count": 31,
   "metadata": {},
   "outputs": [
    {
     "name": "stdout",
     "output_type": "stream",
     "text": [
      "LRLLLRLLLRL\n"
     ]
    }
   ],
   "source": [
    "numbers = [1,3,4,5,8,2,1,4,5,9,5]\n",
    "hand = 'right'\n",
    "\n",
    "L = [1,4,7]\n",
    "R = [3,6,9]\n",
    "\n",
    "result = []\n",
    "for n in numbers:\n",
    "    if n in L:\n",
    "        result.append('L')\n",
    "    elif n in R:\n",
    "        result.append('R')\n",
    "    else:\n",
    "        if numbers[numbers.index(n) - 1] in L: #이전 값이 L에 있는 경우\n",
    "            result.append('L')\n",
    "        elif numbers[numbers.index(n) - 1] in R: #이전 값이 R에 있는 경우\n",
    "            result.append('R')  \n",
    "        elif numbers[numbers.index(n) - 1] not in (L and R): # 이전 값이 L, R에 둘 다 없는 경우\n",
    "             if numbers[numbers.index(n) - 2] in L: # 전전 값 살펴보기\n",
    "                 result.append('L')\n",
    "             else:\n",
    "                 result.append('R')\n",
    "        elif numbers[numbers.index(n) + 1] - numbers[numbers.index(n) - 1] == 2: # 거리가 같은 경우\n",
    "            result.append(hand[0].upper())\n",
    "\n",
    "answer = \"\".join(result)\n",
    "print (answer)"
   ]
  },
  {
   "cell_type": "code",
   "execution_count": null,
   "metadata": {},
   "outputs": [],
   "source": [
    "numbers = [1,3,4,5,8,2,1,4,5,9,5]\n",
    "hand = 'right'\n",
    "\n",
    "L = [1,4,7]\n",
    "R = [3,6,9]\n",
    "\n",
    "result = []\n",
    "for n in numbers:\n",
    "    if n in L:\n",
    "        result.append('L')\n",
    "    elif n in R:\n",
    "        result.append('R')\n",
    "    else:   "
   ]
  }
 ],
 "metadata": {
  "kernelspec": {
   "display_name": "Python 3",
   "language": "python",
   "name": "python3"
  },
  "language_info": {
   "codemirror_mode": {
    "name": "ipython",
    "version": 3
   },
   "file_extension": ".py",
   "mimetype": "text/x-python",
   "name": "python",
   "nbconvert_exporter": "python",
   "pygments_lexer": "ipython3",
   "version": "3.9.13"
  },
  "orig_nbformat": 4
 },
 "nbformat": 4,
 "nbformat_minor": 2
}
