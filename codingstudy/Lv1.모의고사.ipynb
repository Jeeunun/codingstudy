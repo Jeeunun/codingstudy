{
 "cells": [
  {
   "cell_type": "markdown",
   "metadata": {},
   "source": [
    "1번수포자\n",
    "1,2,3,4,5 / 1,2,3,4,5\n",
    "\n",
    "2번수포자\n",
    "(2),1,(2),3,(2),4,(2),5, / 2,1,2,3,2,4,2,5,,,\n",
    "\n",
    "3번수포자\n",
    "(3,3),/1,1/,2,2/,4,4/,5,5  "
   ]
  },
  {
   "cell_type": "markdown",
   "metadata": {},
   "source": [
    "answer = [1,2,3,4,5] \n",
    "가장 높은 점수를 받은 사람 return \n",
    "1번수포자\n",
    "1,2,3,4,5  맞힌 갯수 5\n",
    "\n",
    "2번수포자\n",
    "2,1,2,3,2, / 4,2,5 맞힌 갯수 0\n",
    "\n",
    "3번수포자\n",
    "3,3,1,1,2, / 2,4,4,5,5 맞힌 갯수 0\n",
    "\n",
    "가장 높은 점수를 받은 사람이 여러명일 경우 오름차순 정렬"
   ]
  },
  {
   "cell_type": "code",
   "execution_count": 27,
   "metadata": {},
   "outputs": [
    {
     "data": {
      "text/plain": [
       "[1, 2, 3, 4, 5, 1, 2, 3, 4, 5]"
      ]
     },
     "execution_count": 27,
     "metadata": {},
     "output_type": "execute_result"
    }
   ],
   "source": [
    "def solution_2(A):\n",
    "    \n",
    "    person={1:[1,2,3,4,5],\n",
    "            2:[2,1,2,3,2,4,2,5],\n",
    "            3:[3,3,1,1,2,2,4,4,5,5]}\n",
    "    \n",
    "    point={1:0,2:0,3:0}\n",
    "    \n",
    "    for i in range(len(A)): \n",
    "        for p in person:\n",
    "           if person[p][i]==A[i%len(person[p])]:\n",
    "               point[p]+=1\n",
    "\n"
   ]
  },
  {
   "cell_type": "code",
   "execution_count": 5,
   "metadata": {},
   "outputs": [
    {
     "data": {
      "text/plain": [
       "[2, 2, 2]"
      ]
     },
     "execution_count": 5,
     "metadata": {},
     "output_type": "execute_result"
    }
   ],
   "source": [
    "supoza1 = [1,2,3,4,5]\n",
    "supoza2 = [2,1,2,3,2,4,2,5]\n",
    "supoza3 = [3,3,1,1,2,2,4,4,5,5]\n",
    "\n",
    "cnt = [0,0,0]\n",
    "\n",
    "answers = [1,3,2,4,2]\n",
    "\n",
    "\n",
    "for a, b in enumerate(answers):\n",
    "    if b == supoza1[a%len(answers)]:\n",
    "        cnt[0]+=1\n",
    "    if b == supoza2[a%len(answers)]:\n",
    "        cnt[1]+=1\n",
    "    if b == supoza3[a%len(answers)]:\n",
    "        cnt[2]+=1\n",
    "\n",
    "cnt"
   ]
  },
  {
   "cell_type": "code",
   "execution_count": 13,
   "metadata": {},
   "outputs": [],
   "source": [
    "a = max(cnt)"
   ]
  },
  {
   "cell_type": "code",
   "execution_count": 14,
   "metadata": {},
   "outputs": [
    {
     "data": {
      "text/plain": [
       "[1, 2, 3]"
      ]
     },
     "execution_count": 14,
     "metadata": {},
     "output_type": "execute_result"
    }
   ],
   "source": [
    "result = []\n",
    "if a == cnt[0]:\n",
    "    result.append(1)\n",
    "if a == cnt[1]:\n",
    "    result.append(2)\n",
    "if a == cnt[2]:\n",
    "    result.append(3)\n",
    "\n",
    "result"
   ]
  },
  {
   "cell_type": "code",
   "execution_count": 18,
   "metadata": {},
   "outputs": [],
   "source": [
    "def solution(answers):\n",
    "\n",
    "    supoza1 = [1,2,3,4,5]\n",
    "    supoza2 = [2,1,2,3,2,4,2,5]\n",
    "    supoza3 = [3,3,1,1,2,2,4,4,5,5]\n",
    "\n",
    "    cnt = dict(zip([0,1,2],[0,0,0]))\n",
    "\n",
    "\n",
    "    for a, b in enumerate(answers):\n",
    "        if b == supoza1[a%len(supoza1)]:\n",
    "            cnt[0]+=1\n",
    "        if b == supoza2[a%len(supoza2)]:\n",
    "            cnt[1]+=1\n",
    "        if b == supoza3[a%len(supoza3)]:\n",
    "            cnt[2]+=1\n",
    "\n",
    "    x = max(cnt.values())\n",
    "\n",
    "    answer = []\n",
    "    if x == cnt[0]:\n",
    "        answer.append(1)\n",
    "    if x == cnt[1]:\n",
    "        answer.append(2) \n",
    "    if x == cnt[2]:\n",
    "        answer.append(3)\n",
    "\n",
    "    return answer"
   ]
  },
  {
   "cell_type": "code",
   "execution_count": null,
   "metadata": {},
   "outputs": [],
   "source": []
  }
 ],
 "metadata": {
  "kernelspec": {
   "display_name": "Python 3",
   "language": "python",
   "name": "python3"
  },
  "language_info": {
   "codemirror_mode": {
    "name": "ipython",
    "version": 3
   },
   "file_extension": ".py",
   "mimetype": "text/x-python",
   "name": "python",
   "nbconvert_exporter": "python",
   "pygments_lexer": "ipython3",
   "version": "3.11.4"
  },
  "orig_nbformat": 4
 },
 "nbformat": 4,
 "nbformat_minor": 2
}
