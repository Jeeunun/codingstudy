{
 "cells": [
  {
   "cell_type": "markdown",
   "metadata": {},
   "source": [
    "### 옹알이(2)"
   ]
  },
  {
   "cell_type": "code",
   "execution_count": 7,
   "metadata": {},
   "outputs": [
    {
     "data": {
      "text/plain": [
       "['ayaye',\n",
       " 'ayawoo',\n",
       " 'ayama',\n",
       " 'yeaya',\n",
       " 'yewoo',\n",
       " 'yema',\n",
       " 'wooaya',\n",
       " 'wooye',\n",
       " 'wooma',\n",
       " 'maaya',\n",
       " 'maye',\n",
       " 'mawoo']"
      ]
     },
     "execution_count": 7,
     "metadata": {},
     "output_type": "execute_result"
    }
   ],
   "source": [
    "pronounce = [ \"aya\", \"ye\", \"woo\", \"ma\" ]\n",
    "\n",
    "# 발음할 수 있는 모든 조합 만들기\n",
    "all = []\n",
    "for i in range(len(pronounce)):\n",
    "    for j in pronounce:\n",
    "        if pronounce[i] == j: #연속해서 같은 발음은 제외\n",
    "            pass\n",
    "        else:\n",
    "            s = pronounce[i] + j\n",
    "            all.append(s)\n",
    "all"
   ]
  },
  {
   "cell_type": "code",
   "execution_count": null,
   "metadata": {},
   "outputs": [],
   "source": [
    "1개씩 [ \"aya\", \"ye\", \"woo\", \"ma\" ]\n",
    "\n",
    "2개씩 ['ayaye','ayawoo','ayama','yeaya','yewoo','yema','wooaya','wooye','wooma',\n",
    " 'maaya','maye','mawoo']\n",
    "\n",
    "3개씩 \n",
    "\n",
    "4개씩 "
   ]
  },
  {
   "cell_type": "code",
   "execution_count": 20,
   "metadata": {},
   "outputs": [],
   "source": [
    "from itertools import permutations"
   ]
  },
  {
   "cell_type": "code",
   "execution_count": 21,
   "metadata": {},
   "outputs": [
    {
     "data": {
      "text/plain": [
       "{1: 'aya', 2: 'ye', 3: 'woo', 4: 'ma'}"
      ]
     },
     "execution_count": 21,
     "metadata": {},
     "output_type": "execute_result"
    }
   ],
   "source": [
    "p = [ \"aya\", \"ye\", \"woo\", \"ma\" ]\n",
    "p_dict={}\n",
    "for i,v in enumerate(p):\n",
    "    p_dict[i+1] = v\n",
    "\n",
    "p_dict "
   ]
  },
  {
   "cell_type": "code",
   "execution_count": null,
   "metadata": {},
   "outputs": [],
   "source": [
    "\n",
    "for i in p_dict.keys():\n",
    "    if \n",
    "    all2.append(list(permutations(p_dict.values(), i)))"
   ]
  },
  {
   "cell_type": "code",
   "execution_count": 28,
   "metadata": {},
   "outputs": [],
   "source": [
    "from itertools import permutations"
   ]
  },
  {
   "cell_type": "code",
   "execution_count": 29,
   "metadata": {},
   "outputs": [],
   "source": [
    "pronounce = [ \"aya\", \"ye\", \"woo\", \"ma\" ]\n",
    "\n",
    "all2 = []\n",
    "\n",
    "for i in range(len(pronounce)):\n",
    "    all2.append(list(permutations(pronounce, i+1)))"
   ]
  },
  {
   "cell_type": "code",
   "execution_count": 30,
   "metadata": {},
   "outputs": [
    {
     "name": "stdout",
     "output_type": "stream",
     "text": [
      "aya\n",
      "ye\n",
      "woo\n",
      "ma\n",
      "ayaye\n",
      "ayawoo\n",
      "ayama\n",
      "yeaya\n",
      "yewoo\n",
      "yema\n",
      "wooaya\n",
      "wooye\n",
      "wooma\n",
      "maaya\n",
      "maye\n",
      "mawoo\n",
      "ayayewoo\n",
      "ayayema\n",
      "ayawooye\n",
      "ayawooma\n",
      "ayamaye\n",
      "ayamawoo\n",
      "yeayawoo\n",
      "yeayama\n",
      "yewooaya\n",
      "yewooma\n",
      "yemaaya\n",
      "yemawoo\n",
      "wooayaye\n",
      "wooayama\n",
      "wooyeaya\n",
      "wooyema\n",
      "woomaaya\n",
      "woomaye\n",
      "maayaye\n",
      "maayawoo\n",
      "mayeaya\n",
      "mayewoo\n",
      "mawooaya\n",
      "mawooye\n",
      "ayayewooma\n",
      "ayayemawoo\n",
      "ayawooyema\n",
      "ayawoomaye\n",
      "ayamayewoo\n",
      "ayamawooye\n",
      "yeayawooma\n",
      "yeayamawoo\n",
      "yewooayama\n",
      "yewoomaaya\n",
      "yemaayawoo\n",
      "yemawooaya\n",
      "wooayayema\n",
      "wooayamaye\n",
      "wooyeayama\n",
      "wooyemaaya\n",
      "woomaayaye\n",
      "woomayeaya\n",
      "maayayewoo\n",
      "maayawooye\n",
      "mayeayawoo\n",
      "mayewooaya\n",
      "mawooayaye\n",
      "mawooyeaya\n"
     ]
    }
   ],
   "source": [
    "for x in all2:\n",
    "    for a in x:\n",
    "        my_string = \"\".join(a)\n",
    "        print(my_string)"
   ]
  },
  {
   "cell_type": "code",
   "execution_count": 31,
   "metadata": {},
   "outputs": [
    {
     "data": {
      "text/plain": [
       "0"
      ]
     },
     "execution_count": 31,
     "metadata": {},
     "output_type": "execute_result"
    }
   ],
   "source": [
    "result = 0\n",
    "\n",
    "babbling = [\"ayaye\", \"uuu\", \"yeye\", \"yemawoo\", \"ayaayaa\"]\n",
    "\n",
    "for b in babbling:\n",
    "    if b in my_string:\n",
    "        result+=1\n",
    "\n",
    "result"
   ]
  },
  {
   "cell_type": "code",
   "execution_count": null,
   "metadata": {},
   "outputs": [],
   "source": []
  },
  {
   "cell_type": "code",
   "execution_count": null,
   "metadata": {},
   "outputs": [],
   "source": []
  }
 ],
 "metadata": {
  "kernelspec": {
   "display_name": "Python 3",
   "language": "python",
   "name": "python3"
  },
  "language_info": {
   "codemirror_mode": {
    "name": "ipython",
    "version": 3
   },
   "file_extension": ".py",
   "mimetype": "text/x-python",
   "name": "python",
   "nbconvert_exporter": "python",
   "pygments_lexer": "ipython3",
   "version": "3.11.4"
  },
  "orig_nbformat": 4
 },
 "nbformat": 4,
 "nbformat_minor": 2
}
