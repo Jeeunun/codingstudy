{
 "cells": [
  {
   "attachments": {},
   "cell_type": "markdown",
   "metadata": {},
   "source": [
    "### 7.럭키스트레이트"
   ]
  },
  {
   "cell_type": "code",
   "execution_count": 15,
   "metadata": {},
   "outputs": [
    {
     "name": "stdout",
     "output_type": "stream",
     "text": [
      "READY\n"
     ]
    }
   ],
   "source": [
    "# (1) 예제\n",
    "# 1. N을 리스트 형식으로 만들기\n",
    "N = 123402\n",
    "Llist = list(map(int,str(N)))\n",
    "Llist\n",
    "\n",
    "# 2. 첫번째 부분과 두번째 부분의 합 구하기\n",
    "first = sum(map(int,Llist[:3]))\n",
    "first\n",
    "\n",
    "second = sum(map(int, Llist[3:]))\n",
    "second\n",
    "\n",
    "if first == second:\n",
    "    print(\"LUCKY\")\n",
    "else:\n",
    "    print(\"READY\")\n",
    "#-----------------------------------------------\n",
    "\n",
    "# (2) 함수구현\n",
    "def solution(N):\n",
    "    Llist = list(map(int,str(N)))\n",
    "    first = sum(map(int,Llist[:(len(Llist)//2)]))\n",
    "    second = sum(map(int,Llist[(len(Llist)//2):]))\n",
    "    if first == second:\n",
    "        return (\"LUCKY\")\n",
    "    else:\n",
    "        return (\"READY\")\n",
    "\n",
    "print(solution(7755))"
   ]
  },
  {
   "attachments": {},
   "cell_type": "markdown",
   "metadata": {},
   "source": [
    "### 8. 문자열 재정렬 "
   ]
  },
  {
   "cell_type": "code",
   "execution_count": null,
   "metadata": {},
   "outputs": [],
   "source": [
    "# (1) 예제\n",
    "# - 1. 문자와 숫자 나누기\n",
    "  # print(ord('A')) #65\n",
    "  # print(ord('Z')) #90\n",
    "input = 'K1KA5CB7'\n",
    "ilist = list(input)\n",
    "\n",
    "string = []\n",
    "number = []\n",
    "for i in ilist:\n",
    "    if ord('A')<= ord(i) <= ord('Z'):\n",
    "      string.append(i)\n",
    "    else:\n",
    "       number.append(i)\n",
    "\n",
    "print(string) #['K', 'K', 'A', 'C', 'B']\n",
    "print(number) #['1', '5', '7']\n",
    "\n",
    "# - 2. 알파벳 문자 오름차순 정렬\n",
    "string.sort()\n",
    "string\n",
    "\n",
    "# - 3. 숫자 더한 값\n",
    "sum = 0\n",
    "for n in number:\n",
    "  sum+=int(n)\n",
    "print(str(sum))\n",
    "\n",
    "# - 4. string+number 합치기\n",
    "string.append(str(sum))\n",
    "print(\"\".join(string))\n"
   ]
  },
  {
   "attachments": {},
   "cell_type": "markdown",
   "metadata": {},
   "source": [
    "### 9. 문자열 압축"
   ]
  },
  {
   "cell_type": "code",
   "execution_count": null,
   "metadata": {},
   "outputs": [],
   "source": [
    "# 1. 잘라주는 함수\n",
    "def cut(S : str,m :int):\n",
    "    result = []\n",
    "    m=1\n",
    "    while True:\n",
    "        if m >= len(S):\n",
    "            break\n",
    "        else:\n",
    "            mystring = S[m-1 :m] \n",
    "        result.append(mystring)\n",
    "        m+=1\n",
    "    return len(result)\n",
    "\n",
    "# 2.\n"
   ]
  },
  {
   "attachments": {},
   "cell_type": "markdown",
   "metadata": {},
   "source": [
    "### 10. 열쇠"
   ]
  },
  {
   "cell_type": "code",
   "execution_count": null,
   "metadata": {},
   "outputs": [],
   "source": []
  }
 ],
 "metadata": {
  "kernelspec": {
   "display_name": "Python 3",
   "language": "python",
   "name": "python3"
  },
  "language_info": {
   "codemirror_mode": {
    "name": "ipython",
    "version": 3
   },
   "file_extension": ".py",
   "mimetype": "text/x-python",
   "name": "python",
   "nbconvert_exporter": "python",
   "pygments_lexer": "ipython3",
   "version": "3.11.4"
  },
  "orig_nbformat": 4
 },
 "nbformat": 4,
 "nbformat_minor": 2
}
